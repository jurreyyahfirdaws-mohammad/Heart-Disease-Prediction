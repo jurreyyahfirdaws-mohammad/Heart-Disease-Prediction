{
  "cells": [
    {
      "cell_type": "markdown",
      "id": "d020246e",
      "metadata": {
        "papermill": {
          "duration": 0.020525,
          "end_time": "2023-04-12T19:51:50.057829",
          "exception": false,
          "start_time": "2023-04-12T19:51:50.037304",
          "status": "completed"
        },
        "tags": [],
        "id": "d020246e"
      },
      "source": [
        "# Heart Disease Risk Analysis\n",
        "* **Based on a cardiovascular study of people of the Massachusetts town of Framingham, risk evaluation and estimation for potential coronary coronary artery/heart disease (CHD)**\n",
        "* **Determine whether the individual has a 10-year risk of developing coronary heart disease (CHD) is the categorization objective. Information about the patients is provided by the dataset. 15 qualities and more than 4,000 records are present..**\n",
        "> Above info is obtained from the information provided alongwith the dataset.\n",
        "* **We will make predictions for this dataset using KNN and logistic regression.**"
      ]
    },
    {
      "cell_type": "code",
      "execution_count": null,
      "id": "b7091ba5",
      "metadata": {
        "execution": {
          "iopub.execute_input": "2023-04-12T19:51:50.138923Z",
          "iopub.status.busy": "2023-04-12T19:51:50.138431Z",
          "iopub.status.idle": "2023-04-12T19:51:51.446969Z",
          "shell.execute_reply": "2023-04-12T19:51:51.445427Z"
        },
        "papermill": {
          "duration": 1.332742,
          "end_time": "2023-04-12T19:51:51.449920",
          "exception": false,
          "start_time": "2023-04-12T19:51:50.117178",
          "status": "completed"
        },
        "tags": [],
        "id": "b7091ba5"
      },
      "outputs": [],
      "source": [
        "import numpy as np\n",
        "import pandas as pd\n",
        "\n",
        "import matplotlib.pyplot as plt\n",
        "import seaborn as sns\n",
        "\n",
        "import warnings\n",
        "warnings.filterwarnings(\"ignore\")"
      ]
    },
    {
      "cell_type": "markdown",
      "id": "82dba2f0",
      "metadata": {
        "papermill": {
          "duration": 0.019099,
          "end_time": "2023-04-12T19:51:51.489255",
          "exception": false,
          "start_time": "2023-04-12T19:51:51.470156",
          "status": "completed"
        },
        "tags": [],
        "id": "82dba2f0"
      },
      "source": [
        "#### Loading Dataset:"
      ]
    },
    {
      "cell_type": "code",
      "execution_count": null,
      "id": "869b8096",
      "metadata": {
        "execution": {
          "iopub.execute_input": "2023-04-12T19:51:51.530679Z",
          "iopub.status.busy": "2023-04-12T19:51:51.529342Z",
          "iopub.status.idle": "2023-04-12T19:51:51.602935Z",
          "shell.execute_reply": "2023-04-12T19:51:51.601704Z"
        },
        "papermill": {
          "duration": 0.097121,
          "end_time": "2023-04-12T19:51:51.605734",
          "exception": false,
          "start_time": "2023-04-12T19:51:51.508613",
          "status": "completed"
        },
        "tags": [],
        "id": "869b8096",
        "outputId": "207e5eed-f069-4c1d-9ec7-71f53511804d"
      },
      "outputs": [
        {
          "data": {
            "text/html": [
              "<div>\n",
              "<style scoped>\n",
              "    .dataframe tbody tr th:only-of-type {\n",
              "        vertical-align: middle;\n",
              "    }\n",
              "\n",
              "    .dataframe tbody tr th {\n",
              "        vertical-align: top;\n",
              "    }\n",
              "\n",
              "    .dataframe thead th {\n",
              "        text-align: right;\n",
              "    }\n",
              "</style>\n",
              "<table border=\"1\" class=\"dataframe\">\n",
              "  <thead>\n",
              "    <tr style=\"text-align: right;\">\n",
              "      <th></th>\n",
              "      <th>male</th>\n",
              "      <th>age</th>\n",
              "      <th>education</th>\n",
              "      <th>currentSmoker</th>\n",
              "      <th>cigsPerDay</th>\n",
              "      <th>BPMeds</th>\n",
              "      <th>prevalentStroke</th>\n",
              "      <th>prevalentHyp</th>\n",
              "      <th>diabetes</th>\n",
              "      <th>totChol</th>\n",
              "      <th>sysBP</th>\n",
              "      <th>diaBP</th>\n",
              "      <th>BMI</th>\n",
              "      <th>heartRate</th>\n",
              "      <th>glucose</th>\n",
              "      <th>TenYearCHD</th>\n",
              "    </tr>\n",
              "  </thead>\n",
              "  <tbody>\n",
              "    <tr>\n",
              "      <th>0</th>\n",
              "      <td>1</td>\n",
              "      <td>39</td>\n",
              "      <td>4.0</td>\n",
              "      <td>0</td>\n",
              "      <td>0.0</td>\n",
              "      <td>0.0</td>\n",
              "      <td>0</td>\n",
              "      <td>0</td>\n",
              "      <td>0</td>\n",
              "      <td>195.0</td>\n",
              "      <td>106.0</td>\n",
              "      <td>70.0</td>\n",
              "      <td>26.97</td>\n",
              "      <td>80.0</td>\n",
              "      <td>77.0</td>\n",
              "      <td>0</td>\n",
              "    </tr>\n",
              "    <tr>\n",
              "      <th>1</th>\n",
              "      <td>0</td>\n",
              "      <td>46</td>\n",
              "      <td>2.0</td>\n",
              "      <td>0</td>\n",
              "      <td>0.0</td>\n",
              "      <td>0.0</td>\n",
              "      <td>0</td>\n",
              "      <td>0</td>\n",
              "      <td>0</td>\n",
              "      <td>250.0</td>\n",
              "      <td>121.0</td>\n",
              "      <td>81.0</td>\n",
              "      <td>28.73</td>\n",
              "      <td>95.0</td>\n",
              "      <td>76.0</td>\n",
              "      <td>0</td>\n",
              "    </tr>\n",
              "    <tr>\n",
              "      <th>2</th>\n",
              "      <td>1</td>\n",
              "      <td>48</td>\n",
              "      <td>1.0</td>\n",
              "      <td>1</td>\n",
              "      <td>20.0</td>\n",
              "      <td>0.0</td>\n",
              "      <td>0</td>\n",
              "      <td>0</td>\n",
              "      <td>0</td>\n",
              "      <td>245.0</td>\n",
              "      <td>127.5</td>\n",
              "      <td>80.0</td>\n",
              "      <td>25.34</td>\n",
              "      <td>75.0</td>\n",
              "      <td>70.0</td>\n",
              "      <td>0</td>\n",
              "    </tr>\n",
              "    <tr>\n",
              "      <th>3</th>\n",
              "      <td>0</td>\n",
              "      <td>61</td>\n",
              "      <td>3.0</td>\n",
              "      <td>1</td>\n",
              "      <td>30.0</td>\n",
              "      <td>0.0</td>\n",
              "      <td>0</td>\n",
              "      <td>1</td>\n",
              "      <td>0</td>\n",
              "      <td>225.0</td>\n",
              "      <td>150.0</td>\n",
              "      <td>95.0</td>\n",
              "      <td>28.58</td>\n",
              "      <td>65.0</td>\n",
              "      <td>103.0</td>\n",
              "      <td>1</td>\n",
              "    </tr>\n",
              "    <tr>\n",
              "      <th>4</th>\n",
              "      <td>0</td>\n",
              "      <td>46</td>\n",
              "      <td>3.0</td>\n",
              "      <td>1</td>\n",
              "      <td>23.0</td>\n",
              "      <td>0.0</td>\n",
              "      <td>0</td>\n",
              "      <td>0</td>\n",
              "      <td>0</td>\n",
              "      <td>285.0</td>\n",
              "      <td>130.0</td>\n",
              "      <td>84.0</td>\n",
              "      <td>23.10</td>\n",
              "      <td>85.0</td>\n",
              "      <td>85.0</td>\n",
              "      <td>0</td>\n",
              "    </tr>\n",
              "    <tr>\n",
              "      <th>...</th>\n",
              "      <td>...</td>\n",
              "      <td>...</td>\n",
              "      <td>...</td>\n",
              "      <td>...</td>\n",
              "      <td>...</td>\n",
              "      <td>...</td>\n",
              "      <td>...</td>\n",
              "      <td>...</td>\n",
              "      <td>...</td>\n",
              "      <td>...</td>\n",
              "      <td>...</td>\n",
              "      <td>...</td>\n",
              "      <td>...</td>\n",
              "      <td>...</td>\n",
              "      <td>...</td>\n",
              "      <td>...</td>\n",
              "    </tr>\n",
              "    <tr>\n",
              "      <th>4233</th>\n",
              "      <td>1</td>\n",
              "      <td>50</td>\n",
              "      <td>1.0</td>\n",
              "      <td>1</td>\n",
              "      <td>1.0</td>\n",
              "      <td>0.0</td>\n",
              "      <td>0</td>\n",
              "      <td>1</td>\n",
              "      <td>0</td>\n",
              "      <td>313.0</td>\n",
              "      <td>179.0</td>\n",
              "      <td>92.0</td>\n",
              "      <td>25.97</td>\n",
              "      <td>66.0</td>\n",
              "      <td>86.0</td>\n",
              "      <td>1</td>\n",
              "    </tr>\n",
              "    <tr>\n",
              "      <th>4234</th>\n",
              "      <td>1</td>\n",
              "      <td>51</td>\n",
              "      <td>3.0</td>\n",
              "      <td>1</td>\n",
              "      <td>43.0</td>\n",
              "      <td>0.0</td>\n",
              "      <td>0</td>\n",
              "      <td>0</td>\n",
              "      <td>0</td>\n",
              "      <td>207.0</td>\n",
              "      <td>126.5</td>\n",
              "      <td>80.0</td>\n",
              "      <td>19.71</td>\n",
              "      <td>65.0</td>\n",
              "      <td>68.0</td>\n",
              "      <td>0</td>\n",
              "    </tr>\n",
              "    <tr>\n",
              "      <th>4235</th>\n",
              "      <td>0</td>\n",
              "      <td>48</td>\n",
              "      <td>2.0</td>\n",
              "      <td>1</td>\n",
              "      <td>20.0</td>\n",
              "      <td>NaN</td>\n",
              "      <td>0</td>\n",
              "      <td>0</td>\n",
              "      <td>0</td>\n",
              "      <td>248.0</td>\n",
              "      <td>131.0</td>\n",
              "      <td>72.0</td>\n",
              "      <td>22.00</td>\n",
              "      <td>84.0</td>\n",
              "      <td>86.0</td>\n",
              "      <td>0</td>\n",
              "    </tr>\n",
              "    <tr>\n",
              "      <th>4236</th>\n",
              "      <td>0</td>\n",
              "      <td>44</td>\n",
              "      <td>1.0</td>\n",
              "      <td>1</td>\n",
              "      <td>15.0</td>\n",
              "      <td>0.0</td>\n",
              "      <td>0</td>\n",
              "      <td>0</td>\n",
              "      <td>0</td>\n",
              "      <td>210.0</td>\n",
              "      <td>126.5</td>\n",
              "      <td>87.0</td>\n",
              "      <td>19.16</td>\n",
              "      <td>86.0</td>\n",
              "      <td>NaN</td>\n",
              "      <td>0</td>\n",
              "    </tr>\n",
              "    <tr>\n",
              "      <th>4237</th>\n",
              "      <td>0</td>\n",
              "      <td>52</td>\n",
              "      <td>2.0</td>\n",
              "      <td>0</td>\n",
              "      <td>0.0</td>\n",
              "      <td>0.0</td>\n",
              "      <td>0</td>\n",
              "      <td>0</td>\n",
              "      <td>0</td>\n",
              "      <td>269.0</td>\n",
              "      <td>133.5</td>\n",
              "      <td>83.0</td>\n",
              "      <td>21.47</td>\n",
              "      <td>80.0</td>\n",
              "      <td>107.0</td>\n",
              "      <td>0</td>\n",
              "    </tr>\n",
              "  </tbody>\n",
              "</table>\n",
              "<p>4238 rows × 16 columns</p>\n",
              "</div>"
            ],
            "text/plain": [
              "      male  age  education  currentSmoker  cigsPerDay  BPMeds  \\\n",
              "0        1   39        4.0              0         0.0     0.0   \n",
              "1        0   46        2.0              0         0.0     0.0   \n",
              "2        1   48        1.0              1        20.0     0.0   \n",
              "3        0   61        3.0              1        30.0     0.0   \n",
              "4        0   46        3.0              1        23.0     0.0   \n",
              "...    ...  ...        ...            ...         ...     ...   \n",
              "4233     1   50        1.0              1         1.0     0.0   \n",
              "4234     1   51        3.0              1        43.0     0.0   \n",
              "4235     0   48        2.0              1        20.0     NaN   \n",
              "4236     0   44        1.0              1        15.0     0.0   \n",
              "4237     0   52        2.0              0         0.0     0.0   \n",
              "\n",
              "      prevalentStroke  prevalentHyp  diabetes  totChol  sysBP  diaBP    BMI  \\\n",
              "0                   0             0         0    195.0  106.0   70.0  26.97   \n",
              "1                   0             0         0    250.0  121.0   81.0  28.73   \n",
              "2                   0             0         0    245.0  127.5   80.0  25.34   \n",
              "3                   0             1         0    225.0  150.0   95.0  28.58   \n",
              "4                   0             0         0    285.0  130.0   84.0  23.10   \n",
              "...               ...           ...       ...      ...    ...    ...    ...   \n",
              "4233                0             1         0    313.0  179.0   92.0  25.97   \n",
              "4234                0             0         0    207.0  126.5   80.0  19.71   \n",
              "4235                0             0         0    248.0  131.0   72.0  22.00   \n",
              "4236                0             0         0    210.0  126.5   87.0  19.16   \n",
              "4237                0             0         0    269.0  133.5   83.0  21.47   \n",
              "\n",
              "      heartRate  glucose  TenYearCHD  \n",
              "0          80.0     77.0           0  \n",
              "1          95.0     76.0           0  \n",
              "2          75.0     70.0           0  \n",
              "3          65.0    103.0           1  \n",
              "4          85.0     85.0           0  \n",
              "...         ...      ...         ...  \n",
              "4233       66.0     86.0           1  \n",
              "4234       65.0     68.0           0  \n",
              "4235       84.0     86.0           0  \n",
              "4236       86.0      NaN           0  \n",
              "4237       80.0    107.0           0  \n",
              "\n",
              "[4238 rows x 16 columns]"
            ]
          },
          "execution_count": 6,
          "metadata": {},
          "output_type": "execute_result"
        }
      ],
      "source": [
        "df = pd.read_csv('Heart_Disease_Prediction.csv')\n",
        "df"
      ]
    },
    {
      "cell_type": "markdown",
      "id": "28b0c689",
      "metadata": {
        "papermill": {
          "duration": 0.019544,
          "end_time": "2023-04-12T19:51:51.645313",
          "exception": false,
          "start_time": "2023-04-12T19:51:51.625769",
          "status": "completed"
        },
        "tags": [],
        "id": "28b0c689"
      },
      "source": [
        "# Data Preprocessing and Visualization"
      ]
    },
    {
      "cell_type": "code",
      "execution_count": null,
      "id": "85594708",
      "metadata": {
        "execution": {
          "iopub.execute_input": "2023-04-12T19:51:51.687114Z",
          "iopub.status.busy": "2023-04-12T19:51:51.686677Z",
          "iopub.status.idle": "2023-04-12T19:51:51.695052Z",
          "shell.execute_reply": "2023-04-12T19:51:51.693598Z"
        },
        "papermill": {
          "duration": 0.032299,
          "end_time": "2023-04-12T19:51:51.697577",
          "exception": false,
          "start_time": "2023-04-12T19:51:51.665278",
          "status": "completed"
        },
        "tags": [],
        "id": "85594708",
        "outputId": "638962c0-7c19-4b24-d0fb-2932e6c1b6df"
      },
      "outputs": [
        {
          "data": {
            "text/plain": [
              "(4238, 16)"
            ]
          },
          "execution_count": 7,
          "metadata": {},
          "output_type": "execute_result"
        }
      ],
      "source": [
        "data=df.copy()\n",
        "data.shape"
      ]
    },
    {
      "cell_type": "markdown",
      "id": "ec286ae1",
      "metadata": {
        "papermill": {
          "duration": 0.019665,
          "end_time": "2023-04-12T19:51:51.738339",
          "exception": false,
          "start_time": "2023-04-12T19:51:51.718674",
          "status": "completed"
        },
        "tags": [],
        "id": "ec286ae1"
      },
      "source": [
        "### Null Value and cardinality check:"
      ]
    },
    {
      "cell_type": "code",
      "execution_count": null,
      "id": "13d10213",
      "metadata": {
        "execution": {
          "iopub.execute_input": "2023-04-12T19:51:51.780840Z",
          "iopub.status.busy": "2023-04-12T19:51:51.780386Z",
          "iopub.status.idle": "2023-04-12T19:51:51.819808Z",
          "shell.execute_reply": "2023-04-12T19:51:51.818515Z"
        },
        "papermill": {
          "duration": 0.063817,
          "end_time": "2023-04-12T19:51:51.822287",
          "exception": false,
          "start_time": "2023-04-12T19:51:51.758470",
          "status": "completed"
        },
        "tags": [],
        "id": "13d10213",
        "outputId": "20886b8e-6cc2-4faf-b19f-5cdf850e81d5"
      },
      "outputs": [
        {
          "data": {
            "text/html": [
              "<div>\n",
              "<style scoped>\n",
              "    .dataframe tbody tr th:only-of-type {\n",
              "        vertical-align: middle;\n",
              "    }\n",
              "\n",
              "    .dataframe tbody tr th {\n",
              "        vertical-align: top;\n",
              "    }\n",
              "\n",
              "    .dataframe thead th {\n",
              "        text-align: right;\n",
              "    }\n",
              "</style>\n",
              "<table border=\"1\" class=\"dataframe\">\n",
              "  <thead>\n",
              "    <tr style=\"text-align: right;\">\n",
              "      <th></th>\n",
              "      <th>male</th>\n",
              "      <th>age</th>\n",
              "      <th>education</th>\n",
              "      <th>currentSmoker</th>\n",
              "      <th>cigsPerDay</th>\n",
              "      <th>BPMeds</th>\n",
              "      <th>prevalentStroke</th>\n",
              "      <th>prevalentHyp</th>\n",
              "      <th>diabetes</th>\n",
              "      <th>totChol</th>\n",
              "      <th>sysBP</th>\n",
              "      <th>diaBP</th>\n",
              "      <th>BMI</th>\n",
              "      <th>heartRate</th>\n",
              "      <th>glucose</th>\n",
              "      <th>TenYearCHD</th>\n",
              "    </tr>\n",
              "  </thead>\n",
              "  <tbody>\n",
              "    <tr>\n",
              "      <th>Null counts</th>\n",
              "      <td>0.0</td>\n",
              "      <td>0.0</td>\n",
              "      <td>105.000000</td>\n",
              "      <td>0.0</td>\n",
              "      <td>29.000000</td>\n",
              "      <td>53.00000</td>\n",
              "      <td>0.0</td>\n",
              "      <td>0.0</td>\n",
              "      <td>0.0</td>\n",
              "      <td>50.000000</td>\n",
              "      <td>0.0</td>\n",
              "      <td>0.0</td>\n",
              "      <td>19.000000</td>\n",
              "      <td>1.000000</td>\n",
              "      <td>388.000000</td>\n",
              "      <td>0.0</td>\n",
              "    </tr>\n",
              "    <tr>\n",
              "      <th>Null %</th>\n",
              "      <td>0.0</td>\n",
              "      <td>0.0</td>\n",
              "      <td>2.477584</td>\n",
              "      <td>0.0</td>\n",
              "      <td>0.684285</td>\n",
              "      <td>1.25059</td>\n",
              "      <td>0.0</td>\n",
              "      <td>0.0</td>\n",
              "      <td>0.0</td>\n",
              "      <td>1.179802</td>\n",
              "      <td>0.0</td>\n",
              "      <td>0.0</td>\n",
              "      <td>0.448325</td>\n",
              "      <td>0.023596</td>\n",
              "      <td>9.155262</td>\n",
              "      <td>0.0</td>\n",
              "    </tr>\n",
              "    <tr>\n",
              "      <th>Cardinality</th>\n",
              "      <td>2.0</td>\n",
              "      <td>39.0</td>\n",
              "      <td>4.000000</td>\n",
              "      <td>2.0</td>\n",
              "      <td>33.000000</td>\n",
              "      <td>2.00000</td>\n",
              "      <td>2.0</td>\n",
              "      <td>2.0</td>\n",
              "      <td>2.0</td>\n",
              "      <td>248.000000</td>\n",
              "      <td>234.0</td>\n",
              "      <td>146.0</td>\n",
              "      <td>1363.000000</td>\n",
              "      <td>73.000000</td>\n",
              "      <td>143.000000</td>\n",
              "      <td>2.0</td>\n",
              "    </tr>\n",
              "  </tbody>\n",
              "</table>\n",
              "</div>"
            ],
            "text/plain": [
              "             male   age   education  currentSmoker  cigsPerDay    BPMeds  \\\n",
              "Null counts   0.0   0.0  105.000000            0.0   29.000000  53.00000   \n",
              "Null %        0.0   0.0    2.477584            0.0    0.684285   1.25059   \n",
              "Cardinality   2.0  39.0    4.000000            2.0   33.000000   2.00000   \n",
              "\n",
              "             prevalentStroke  prevalentHyp  diabetes     totChol  sysBP  \\\n",
              "Null counts              0.0           0.0       0.0   50.000000    0.0   \n",
              "Null %                   0.0           0.0       0.0    1.179802    0.0   \n",
              "Cardinality              2.0           2.0       2.0  248.000000  234.0   \n",
              "\n",
              "             diaBP          BMI  heartRate     glucose  TenYearCHD  \n",
              "Null counts    0.0    19.000000   1.000000  388.000000         0.0  \n",
              "Null %         0.0     0.448325   0.023596    9.155262         0.0  \n",
              "Cardinality  146.0  1363.000000  73.000000  143.000000         2.0  "
            ]
          },
          "execution_count": 8,
          "metadata": {},
          "output_type": "execute_result"
        }
      ],
      "source": [
        "null_perc=data.isnull().sum()/len(data)*100\n",
        "null=data.isnull().sum()\n",
        "overview=pd.concat((null,null_perc,data.nunique()),axis=1, keys=['Null counts','Null %','Cardinality'])\n",
        "overview.T"
      ]
    },
    {
      "cell_type": "markdown",
      "id": "32e72ae0",
      "metadata": {
        "papermill": {
          "duration": 0.020477,
          "end_time": "2023-04-12T19:51:51.864159",
          "exception": false,
          "start_time": "2023-04-12T19:51:51.843682",
          "status": "completed"
        },
        "tags": [],
        "id": "32e72ae0"
      },
      "source": [
        "*Inference:*\n",
        "* The percentage of null values across all columns is relatively low (10%) compared to the amount of the data."
      ]
    },
    {
      "cell_type": "markdown",
      "id": "dbccee07",
      "metadata": {
        "papermill": {
          "duration": 0.019743,
          "end_time": "2023-04-12T19:51:51.904080",
          "exception": false,
          "start_time": "2023-04-12T19:51:51.884337",
          "status": "completed"
        },
        "tags": [],
        "id": "dbccee07"
      },
      "source": [
        "* For **categorical** data, we will update null values to the **most dominant** category value.\n",
        "* For **non-categorical** data, we will apply **Linear Interpolation** to that column.\n",
        "> **For Categorical Data**, we **can not use interpolation** **because** Interpolation requires a mathematical relationship between data points that can be used to estimate missing values, but **categorical data does not have a natural mathematical relationship.**"
      ]
    },
    {
      "cell_type": "code",
      "execution_count": null,
      "id": "e0980fc7",
      "metadata": {
        "execution": {
          "iopub.execute_input": "2023-04-12T19:51:51.946901Z",
          "iopub.status.busy": "2023-04-12T19:51:51.945999Z",
          "iopub.status.idle": "2023-04-12T19:51:51.966566Z",
          "shell.execute_reply": "2023-04-12T19:51:51.965077Z"
        },
        "papermill": {
          "duration": 0.045232,
          "end_time": "2023-04-12T19:51:51.969426",
          "exception": false,
          "start_time": "2023-04-12T19:51:51.924194",
          "status": "completed"
        },
        "tags": [],
        "id": "e0980fc7"
      },
      "outputs": [],
      "source": [
        "# generating list of categorical factors:\n",
        "temp=data.drop(columns=['TenYearCHD']).nunique()\n",
        "cat=temp.loc[temp.values <5].index.to_list()\n",
        "\n",
        "# updating null values to the most dominant category:\n",
        "for factor in cat:\n",
        "    data[factor].fillna(data[factor].value_counts().idxmax(),inplace=True)"
      ]
    },
    {
      "cell_type": "code",
      "execution_count": null,
      "id": "4cabf970",
      "metadata": {
        "execution": {
          "iopub.execute_input": "2023-04-12T19:51:52.012833Z",
          "iopub.status.busy": "2023-04-12T19:51:52.011995Z",
          "iopub.status.idle": "2023-04-12T19:51:52.027448Z",
          "shell.execute_reply": "2023-04-12T19:51:52.026338Z"
        },
        "papermill": {
          "duration": 0.040283,
          "end_time": "2023-04-12T19:51:52.030166",
          "exception": false,
          "start_time": "2023-04-12T19:51:51.989883",
          "status": "completed"
        },
        "tags": [],
        "id": "4cabf970"
      },
      "outputs": [],
      "source": [
        "# generating list of non-categorical factors:\n",
        "temp=data.drop(columns=['TenYearCHD']).nunique()\n",
        "non_cat=temp.loc[temp.values > 5].index.to_list()\n",
        "\n",
        "# Implementing interpolation (with linear method), on known data for null values:\n",
        "for factor in non_cat:\n",
        "    data[factor]=data[factor].interpolate(method='linear')"
      ]
    },
    {
      "cell_type": "code",
      "execution_count": null,
      "id": "64364811",
      "metadata": {
        "execution": {
          "iopub.execute_input": "2023-04-12T19:51:52.072893Z",
          "iopub.status.busy": "2023-04-12T19:51:52.072385Z",
          "iopub.status.idle": "2023-04-12T19:51:52.105016Z",
          "shell.execute_reply": "2023-04-12T19:51:52.103731Z"
        },
        "papermill": {
          "duration": 0.057184,
          "end_time": "2023-04-12T19:51:52.107736",
          "exception": false,
          "start_time": "2023-04-12T19:51:52.050552",
          "status": "completed"
        },
        "tags": [],
        "id": "64364811",
        "outputId": "f23a9800-86e2-4405-c34e-fdee586dfaf8"
      },
      "outputs": [
        {
          "data": {
            "text/html": [
              "<div>\n",
              "<style scoped>\n",
              "    .dataframe tbody tr th:only-of-type {\n",
              "        vertical-align: middle;\n",
              "    }\n",
              "\n",
              "    .dataframe tbody tr th {\n",
              "        vertical-align: top;\n",
              "    }\n",
              "\n",
              "    .dataframe thead th {\n",
              "        text-align: right;\n",
              "    }\n",
              "</style>\n",
              "<table border=\"1\" class=\"dataframe\">\n",
              "  <thead>\n",
              "    <tr style=\"text-align: right;\">\n",
              "      <th></th>\n",
              "      <th>male</th>\n",
              "      <th>age</th>\n",
              "      <th>education</th>\n",
              "      <th>currentSmoker</th>\n",
              "      <th>cigsPerDay</th>\n",
              "      <th>BPMeds</th>\n",
              "      <th>prevalentStroke</th>\n",
              "      <th>prevalentHyp</th>\n",
              "      <th>diabetes</th>\n",
              "      <th>totChol</th>\n",
              "      <th>sysBP</th>\n",
              "      <th>diaBP</th>\n",
              "      <th>BMI</th>\n",
              "      <th>heartRate</th>\n",
              "      <th>glucose</th>\n",
              "      <th>TenYearCHD</th>\n",
              "    </tr>\n",
              "  </thead>\n",
              "  <tbody>\n",
              "    <tr>\n",
              "      <th>Null counts</th>\n",
              "      <td>0.0</td>\n",
              "      <td>0.0</td>\n",
              "      <td>0.0</td>\n",
              "      <td>0.0</td>\n",
              "      <td>0.0</td>\n",
              "      <td>0.0</td>\n",
              "      <td>0.0</td>\n",
              "      <td>0.0</td>\n",
              "      <td>0.0</td>\n",
              "      <td>0.0</td>\n",
              "      <td>0.0</td>\n",
              "      <td>0.0</td>\n",
              "      <td>0.0</td>\n",
              "      <td>0.0</td>\n",
              "      <td>0.0</td>\n",
              "      <td>0.0</td>\n",
              "    </tr>\n",
              "    <tr>\n",
              "      <th>Null %</th>\n",
              "      <td>0.0</td>\n",
              "      <td>0.0</td>\n",
              "      <td>0.0</td>\n",
              "      <td>0.0</td>\n",
              "      <td>0.0</td>\n",
              "      <td>0.0</td>\n",
              "      <td>0.0</td>\n",
              "      <td>0.0</td>\n",
              "      <td>0.0</td>\n",
              "      <td>0.0</td>\n",
              "      <td>0.0</td>\n",
              "      <td>0.0</td>\n",
              "      <td>0.0</td>\n",
              "      <td>0.0</td>\n",
              "      <td>0.0</td>\n",
              "      <td>0.0</td>\n",
              "    </tr>\n",
              "    <tr>\n",
              "      <th>Cardinality</th>\n",
              "      <td>2.0</td>\n",
              "      <td>39.0</td>\n",
              "      <td>4.0</td>\n",
              "      <td>2.0</td>\n",
              "      <td>41.0</td>\n",
              "      <td>2.0</td>\n",
              "      <td>2.0</td>\n",
              "      <td>2.0</td>\n",
              "      <td>2.0</td>\n",
              "      <td>274.0</td>\n",
              "      <td>234.0</td>\n",
              "      <td>146.0</td>\n",
              "      <td>1375.0</td>\n",
              "      <td>73.0</td>\n",
              "      <td>231.0</td>\n",
              "      <td>2.0</td>\n",
              "    </tr>\n",
              "  </tbody>\n",
              "</table>\n",
              "</div>"
            ],
            "text/plain": [
              "             male   age  education  currentSmoker  cigsPerDay  BPMeds  \\\n",
              "Null counts   0.0   0.0        0.0            0.0         0.0     0.0   \n",
              "Null %        0.0   0.0        0.0            0.0         0.0     0.0   \n",
              "Cardinality   2.0  39.0        4.0            2.0        41.0     2.0   \n",
              "\n",
              "             prevalentStroke  prevalentHyp  diabetes  totChol  sysBP  diaBP  \\\n",
              "Null counts              0.0           0.0       0.0      0.0    0.0    0.0   \n",
              "Null %                   0.0           0.0       0.0      0.0    0.0    0.0   \n",
              "Cardinality              2.0           2.0       2.0    274.0  234.0  146.0   \n",
              "\n",
              "                BMI  heartRate  glucose  TenYearCHD  \n",
              "Null counts     0.0        0.0      0.0         0.0  \n",
              "Null %          0.0        0.0      0.0         0.0  \n",
              "Cardinality  1375.0       73.0    231.0         2.0  "
            ]
          },
          "execution_count": 11,
          "metadata": {},
          "output_type": "execute_result"
        }
      ],
      "source": [
        "null_perc=data.isnull().sum()/len(data)*100\n",
        "null=data.isnull().sum()\n",
        "overview=pd.concat((null,null_perc,data.nunique()),axis=1, keys=['Null counts','Null %','Cardinality'])\n",
        "overview.T"
      ]
    },
    {
      "cell_type": "markdown",
      "id": "5bb322c5",
      "metadata": {
        "papermill": {
          "duration": 0.020055,
          "end_time": "2023-04-12T19:51:52.148249",
          "exception": false,
          "start_time": "2023-04-12T19:51:52.128194",
          "status": "completed"
        },
        "tags": [],
        "id": "5bb322c5"
      },
      "source": [
        "* **No Null values left**"
      ]
    },
    {
      "cell_type": "code",
      "execution_count": null,
      "id": "9bfea335",
      "metadata": {
        "execution": {
          "iopub.execute_input": "2023-04-12T19:51:52.191187Z",
          "iopub.status.busy": "2023-04-12T19:51:52.190330Z",
          "iopub.status.idle": "2023-04-12T19:51:52.196017Z",
          "shell.execute_reply": "2023-04-12T19:51:52.195004Z"
        },
        "papermill": {
          "duration": 0.030064,
          "end_time": "2023-04-12T19:51:52.198601",
          "exception": false,
          "start_time": "2023-04-12T19:51:52.168537",
          "status": "completed"
        },
        "tags": [],
        "id": "9bfea335"
      },
      "outputs": [],
      "source": [
        "data_clean=data.copy()"
      ]
    },
    {
      "cell_type": "markdown",
      "id": "02e34d29",
      "metadata": {
        "papermill": {
          "duration": 0.020081,
          "end_time": "2023-04-12T19:51:52.239014",
          "exception": false,
          "start_time": "2023-04-12T19:51:52.218933",
          "status": "completed"
        },
        "tags": [],
        "id": "02e34d29"
      },
      "source": [
        "### Analysis of Density Distribution of Factors:"
      ]
    },
    {
      "cell_type": "markdown",
      "id": "bed09914",
      "metadata": {
        "id": "bed09914"
      },
      "source": [
        "### diabetes, BPMeds and prevalentStroke are categorical factors (with 2 classes), and they are highly imbalanced. Such that one type of class is looking like outlier. (minority class's data points are too small compared to the majority class.)"
      ]
    },
    {
      "cell_type": "code",
      "execution_count": null,
      "id": "10472bf8",
      "metadata": {
        "execution": {
          "iopub.execute_input": "2023-04-12T19:51:52.281937Z",
          "iopub.status.busy": "2023-04-12T19:51:52.281086Z",
          "iopub.status.idle": "2023-04-12T19:51:55.424144Z",
          "shell.execute_reply": "2023-04-12T19:51:55.423118Z"
        },
        "papermill": {
          "duration": 3.169888,
          "end_time": "2023-04-12T19:51:55.429044",
          "exception": false,
          "start_time": "2023-04-12T19:51:52.259156",
          "status": "completed"
        },
        "scrolled": true,
        "tags": [],
        "id": "10472bf8",
        "outputId": "27186220-62b3-4bd0-dcdc-4e1455238cc7"
      },
      "outputs": [
        {
          "data": {
            "image/png": "[encoded data removed]",
            "text/plain": [
              "<Figure size 1584x1296 with 15 Axes>"
            ]
          },
          "metadata": {
            "needs_background": "light"
          },
          "output_type": "display_data"
        }
      ],
      "source": [
        "fac=cat+non_cat\n",
        "plt.figure(figsize=(22,18))\n",
        "i=1\n",
        "for factor in fac:\n",
        "    plt.subplot(4,4,i)\n",
        "    sns.distplot(data[factor].loc[data['TenYearCHD']==0], hist=False,color='green')\n",
        "    sns.distplot(data[factor].loc[data['TenYearCHD']==1], hist=False,color='red')\n",
        "    i+=1"
      ]
    },
    {
      "cell_type": "markdown",
      "id": "3c90e714",
      "metadata": {
        "papermill": {
          "duration": 0.02784,
          "end_time": "2023-04-12T19:51:55.485546",
          "exception": false,
          "start_time": "2023-04-12T19:51:55.457706",
          "status": "completed"
        },
        "tags": [],
        "id": "3c90e714"
      },
      "source": [
        "> SMOTE: A popular **minority oversampling method** used to address the class imbalance problem in classification models.\n",
        "    * **BMI**, **heartRate** and **totChol** are non-categorical factors, and they are **highly balanced**.\n",
        "    * **Male audience** had **more** chances of being **affected** by CHD.\n",
        "    * Higher values of **sysBP and diaBP** had more cases of CHD.\n",
        "    * People of **age >50** are more **prone** to CHD."
      ]
    },
    {
      "cell_type": "markdown",
      "id": "f0ec5aea",
      "metadata": {
        "papermill": {
          "duration": 0.026201,
          "end_time": "2023-04-12T19:51:55.538608",
          "exception": false,
          "start_time": "2023-04-12T19:51:55.512407",
          "status": "completed"
        },
        "tags": [],
        "id": "f0ec5aea"
      },
      "source": [
        "### Correlation Analysis:"
      ]
    },
    {
      "cell_type": "code",
      "execution_count": null,
      "id": "eee40c22",
      "metadata": {
        "execution": {
          "iopub.execute_input": "2023-04-12T19:51:55.597559Z",
          "iopub.status.busy": "2023-04-12T19:51:55.596733Z",
          "iopub.status.idle": "2023-04-12T19:51:55.614997Z",
          "shell.execute_reply": "2023-04-12T19:51:55.613856Z"
        },
        "papermill": {
          "duration": 0.051288,
          "end_time": "2023-04-12T19:51:55.617591",
          "exception": false,
          "start_time": "2023-04-12T19:51:55.566303",
          "status": "completed"
        },
        "tags": [],
        "id": "eee40c22",
        "outputId": "fb9bff6e-3921-4885-d991-fade4ce1e93b"
      },
      "outputs": [
        {
          "data": {
            "text/plain": [
              "male                 8.842757\n",
              "age                 22.525610\n",
              "education           -5.281226\n",
              "currentSmoker        1.945627\n",
              "cigsPerDay           5.787081\n",
              "BPMeds               8.641714\n",
              "prevalentStroke      6.180995\n",
              "prevalentHyp        17.760273\n",
              "diabetes             9.731651\n",
              "totChol              8.256616\n",
              "sysBP               21.642904\n",
              "diaBP               14.529910\n",
              "BMI                  7.366877\n",
              "heartRate            2.290313\n",
              "glucose             11.804604\n",
              "TenYearCHD         100.000000\n",
              "dtype: float64"
            ]
          },
          "execution_count": 14,
          "metadata": {},
          "output_type": "execute_result"
        }
      ],
      "source": [
        "# Checking correlation % with target column:\n",
        "data.corrwith(data['TenYearCHD'])*100"
      ]
    },
    {
      "cell_type": "code",
      "execution_count": null,
      "id": "fc65e02e",
      "metadata": {
        "execution": {
          "iopub.execute_input": "2023-04-12T19:51:55.674030Z",
          "iopub.status.busy": "2023-04-12T19:51:55.673567Z",
          "iopub.status.idle": "2023-04-12T19:51:56.354436Z",
          "shell.execute_reply": "2023-04-12T19:51:56.353449Z"
        },
        "papermill": {
          "duration": 0.713085,
          "end_time": "2023-04-12T19:51:56.358357",
          "exception": false,
          "start_time": "2023-04-12T19:51:55.645272",
          "status": "completed"
        },
        "tags": [],
        "id": "fc65e02e",
        "outputId": "205f6c69-81f1-4f80-9938-dec03f16c88d"
      },
      "outputs": [
        {
          "data": {
            "text/plain": [
              "<AxesSubplot:>"
            ]
          },
          "execution_count": 15,
          "metadata": {},
          "output_type": "execute_result"
        },
        {
          "data": {
            "image/png": "[encoded data removed]",
            "text/plain": [
              "<Figure size 576x432 with 2 Axes>"
            ]
          },
          "metadata": {
            "needs_background": "light"
          },
          "output_type": "display_data"
        }
      ],
      "source": [
        "corr=data.drop(columns=['TenYearCHD']).corr()\n",
        "plt.subplots(figsize=(8,6))\n",
        "sns.heatmap(corr, cmap='BuGn')"
      ]
    },
    {
      "cell_type": "markdown",
      "id": "eab34fe3",
      "metadata": {
        "papermill": {
          "duration": 0.029712,
          "end_time": "2023-04-12T19:51:56.420605",
          "exception": false,
          "start_time": "2023-04-12T19:51:56.390893",
          "status": "completed"
        },
        "tags": [],
        "id": "eab34fe3"
      },
      "source": [
        "### sysBP, diaBP and prevalentHyp have high correlation.\n",
        "### cigsPerDay, and currentSmoker have high correlation.\n",
        "### glucose, and diabetes have high correlation."
      ]
    },
    {
      "cell_type": "code",
      "execution_count": null,
      "id": "a03b5da6",
      "metadata": {
        "execution": {
          "iopub.execute_input": "2023-04-12T19:51:56.479941Z",
          "iopub.status.busy": "2023-04-12T19:51:56.479394Z",
          "iopub.status.idle": "2023-04-12T19:51:56.490154Z",
          "shell.execute_reply": "2023-04-12T19:51:56.489149Z"
        },
        "papermill": {
          "duration": 0.043238,
          "end_time": "2023-04-12T19:51:56.492721",
          "exception": false,
          "start_time": "2023-04-12T19:51:56.449483",
          "status": "completed"
        },
        "tags": [],
        "id": "a03b5da6",
        "outputId": "f9e173cf-4981-45e1-bf8e-7d2b6857aba7"
      },
      "outputs": [
        {
          "data": {
            "text/plain": [
              "(4238, 12)"
            ]
          },
          "execution_count": 16,
          "metadata": {},
          "output_type": "execute_result"
        }
      ],
      "source": [
        "# dropping factors according to inferences:\n",
        "data.drop(columns=['diaBP','prevalentHyp','currentSmoker','diabetes'], inplace=True)\n",
        "data.shape"
      ]
    },
    {
      "cell_type": "code",
      "execution_count": null,
      "id": "297ea74b",
      "metadata": {
        "execution": {
          "iopub.execute_input": "2023-04-12T19:51:56.553284Z",
          "iopub.status.busy": "2023-04-12T19:51:56.552346Z",
          "iopub.status.idle": "2023-04-12T19:51:56.992272Z",
          "shell.execute_reply": "2023-04-12T19:51:56.990808Z"
        },
        "papermill": {
          "duration": 0.473061,
          "end_time": "2023-04-12T19:51:56.995363",
          "exception": false,
          "start_time": "2023-04-12T19:51:56.522302",
          "status": "completed"
        },
        "tags": [],
        "id": "297ea74b",
        "outputId": "60e2b5ba-d37d-4020-c0e5-2776275299f7"
      },
      "outputs": [
        {
          "data": {
            "text/plain": [
              "<AxesSubplot:>"
            ]
          },
          "execution_count": 17,
          "metadata": {},
          "output_type": "execute_result"
        },
        {
          "data": {
            "image/png": "[encoded data removed]",
            "text/plain": [
              "<Figure size 576x432 with 2 Axes>"
            ]
          },
          "metadata": {
            "needs_background": "light"
          },
          "output_type": "display_data"
        }
      ],
      "source": [
        "corr=data.drop(columns=['TenYearCHD']).corr()\n",
        "plt.subplots(figsize=(8,6))\n",
        "sns.heatmap(corr, cmap='BuGn')"
      ]
    },
    {
      "cell_type": "markdown",
      "id": "1ea381cf",
      "metadata": {
        "papermill": {
          "duration": 0.028546,
          "end_time": "2023-04-12T19:51:57.053506",
          "exception": false,
          "start_time": "2023-04-12T19:51:57.024960",
          "status": "completed"
        },
        "tags": [],
        "id": "1ea381cf"
      },
      "source": [
        "### Observation - No high correlations left"
      ]
    },
    {
      "cell_type": "markdown",
      "id": "152b90a0",
      "metadata": {
        "papermill": {
          "duration": 0.029419,
          "end_time": "2023-04-12T19:51:57.111876",
          "exception": false,
          "start_time": "2023-04-12T19:51:57.082457",
          "status": "completed"
        },
        "tags": [],
        "id": "152b90a0"
      },
      "source": [
        "# Model Building"
      ]
    },
    {
      "cell_type": "markdown",
      "id": "5f8d45d2",
      "metadata": {
        "papermill": {
          "duration": 0.029135,
          "end_time": "2023-04-12T19:51:57.171115",
          "exception": false,
          "start_time": "2023-04-12T19:51:57.141980",
          "status": "completed"
        },
        "tags": [],
        "id": "5f8d45d2"
      },
      "source": [
        "### X-Y split:"
      ]
    },
    {
      "cell_type": "code",
      "execution_count": null,
      "id": "5f3e3843",
      "metadata": {
        "execution": {
          "iopub.execute_input": "2023-04-12T19:51:57.234787Z",
          "iopub.status.busy": "2023-04-12T19:51:57.233901Z",
          "iopub.status.idle": "2023-04-12T19:51:57.243356Z",
          "shell.execute_reply": "2023-04-12T19:51:57.241872Z"
        },
        "papermill": {
          "duration": 0.044453,
          "end_time": "2023-04-12T19:51:57.246002",
          "exception": false,
          "start_time": "2023-04-12T19:51:57.201549",
          "status": "completed"
        },
        "tags": [],
        "id": "5f3e3843",
        "outputId": "3eefadd4-bc5b-4850-dbad-ca186925eafd"
      },
      "outputs": [
        {
          "data": {
            "text/plain": [
              "((4238, 12), (4238, 11), (4238,))"
            ]
          },
          "execution_count": 47,
          "metadata": {},
          "output_type": "execute_result"
        }
      ],
      "source": [
        "X = data.drop(columns=['TenYearCHD'])\n",
        "Y = data.TenYearCHD\n",
        "\n",
        "data.shape,X.shape,Y.shape"
      ]
    },
    {
      "cell_type": "markdown",
      "id": "ab76b22c",
      "metadata": {
        "papermill": {
          "duration": 0.029529,
          "end_time": "2023-04-12T19:51:57.304886",
          "exception": false,
          "start_time": "2023-04-12T19:51:57.275357",
          "status": "completed"
        },
        "tags": [],
        "id": "ab76b22c"
      },
      "source": [
        "### Train-Test Split:"
      ]
    },
    {
      "cell_type": "code",
      "execution_count": null,
      "id": "066838ba",
      "metadata": {
        "execution": {
          "iopub.execute_input": "2023-04-12T19:51:57.367816Z",
          "iopub.status.busy": "2023-04-12T19:51:57.366342Z",
          "iopub.status.idle": "2023-04-12T19:51:57.653952Z",
          "shell.execute_reply": "2023-04-12T19:51:57.652592Z"
        },
        "papermill": {
          "duration": 0.321787,
          "end_time": "2023-04-12T19:51:57.656941",
          "exception": false,
          "start_time": "2023-04-12T19:51:57.335154",
          "status": "completed"
        },
        "tags": [],
        "id": "066838ba",
        "outputId": "c942c5a4-a95a-481c-ccc2-9f2fddf62125"
      },
      "outputs": [
        {
          "data": {
            "text/plain": [
              "((3390, 11), (3390,), (848, 11), (848,))"
            ]
          },
          "execution_count": 48,
          "metadata": {},
          "output_type": "execute_result"
        }
      ],
      "source": [
        "from sklearn.model_selection import train_test_split\n",
        "\n",
        "x_train,x_test,y_train,y_test = train_test_split(X,Y,test_size=0.2,random_state=1500)\n",
        "x_train.shape,y_train.shape,x_test.shape,y_test.shape"
      ]
    },
    {
      "cell_type": "markdown",
      "id": "e2313a96",
      "metadata": {
        "papermill": {
          "duration": 0.035366,
          "end_time": "2023-04-12T19:51:57.725173",
          "exception": false,
          "start_time": "2023-04-12T19:51:57.689807",
          "status": "completed"
        },
        "tags": [],
        "id": "e2313a96"
      },
      "source": [
        "### Applying SMOTE on training data:"
      ]
    },
    {
      "cell_type": "code",
      "execution_count": null,
      "id": "d2ecc98e",
      "metadata": {
        "execution": {
          "iopub.execute_input": "2023-04-12T19:51:57.786761Z",
          "iopub.status.busy": "2023-04-12T19:51:57.786314Z",
          "iopub.status.idle": "2023-04-12T19:51:58.462821Z",
          "shell.execute_reply": "2023-04-12T19:51:58.461634Z"
        },
        "papermill": {
          "duration": 0.711767,
          "end_time": "2023-04-12T19:51:58.466229",
          "exception": false,
          "start_time": "2023-04-12T19:51:57.754462",
          "status": "completed"
        },
        "tags": [],
        "id": "d2ecc98e"
      },
      "outputs": [],
      "source": [
        "from imblearn.over_sampling import SMOTE\n",
        "\n",
        "# Applying SMOTE:\n",
        "smote=SMOTE(random_state=500, sampling_strategy=0.25)\n",
        "# sampling stratergy: ratio of (minority values)/(majority values), currently set to: 0.25 (1/4 ratio)\n",
        "x_train_resample,y_train_resample=smote.fit_resample(x_train, y_train)"
      ]
    },
    {
      "cell_type": "markdown",
      "id": "bf36aa67",
      "metadata": {
        "papermill": {
          "duration": 0.02931,
          "end_time": "2023-04-12T19:51:58.524462",
          "exception": false,
          "start_time": "2023-04-12T19:51:58.495152",
          "status": "completed"
        },
        "tags": [],
        "id": "bf36aa67"
      },
      "source": [
        "## Fitting in logistic regression model:"
      ]
    },
    {
      "cell_type": "markdown",
      "id": "6f2299bb",
      "metadata": {
        "papermill": {
          "duration": 0.030529,
          "end_time": "2023-04-12T19:51:58.584992",
          "exception": false,
          "start_time": "2023-04-12T19:51:58.554463",
          "status": "completed"
        },
        "tags": [],
        "id": "6f2299bb"
      },
      "source": [
        "### For this part, we will be using the statsmodel"
      ]
    },
    {
      "cell_type": "code",
      "execution_count": null,
      "id": "e90bbdb0",
      "metadata": {
        "execution": {
          "iopub.execute_input": "2023-04-12T19:51:58.645960Z",
          "iopub.status.busy": "2023-04-12T19:51:58.645234Z",
          "iopub.status.idle": "2023-04-12T19:52:00.348029Z",
          "shell.execute_reply": "2023-04-12T19:52:00.346068Z"
        },
        "papermill": {
          "duration": 1.738791,
          "end_time": "2023-04-12T19:52:00.353002",
          "exception": false,
          "start_time": "2023-04-12T19:51:58.614211",
          "status": "completed"
        },
        "tags": [],
        "id": "e90bbdb0",
        "outputId": "f08907bd-e4b7-4454-d6a2-b2200d94973e"
      },
      "outputs": [
        {
          "name": "stdout",
          "output_type": "stream",
          "text": [
            "Optimization terminated successfully.\n",
            "         Current function value: 0.454891\n",
            "         Iterations 6\n"
          ]
        }
      ],
      "source": [
        "import statsmodels.api as sm\n",
        "logReg=sm.Logit(y_train_resample, sm.add_constant(x_train_resample)).fit()"
      ]
    },
    {
      "cell_type": "markdown",
      "id": "38ac4415",
      "metadata": {
        "id": "38ac4415"
      },
      "source": [
        "### Defining the model evaluation metrics"
      ]
    },
    {
      "cell_type": "code",
      "execution_count": null,
      "id": "c094ea2b",
      "metadata": {
        "execution": {
          "iopub.execute_input": "2023-04-12T19:52:00.607013Z",
          "iopub.status.busy": "2023-04-12T19:52:00.605714Z",
          "iopub.status.idle": "2023-04-12T19:52:00.610915Z",
          "shell.execute_reply": "2023-04-12T19:52:00.609852Z"
        },
        "papermill": {
          "duration": 0.039523,
          "end_time": "2023-04-12T19:52:00.613607",
          "exception": false,
          "start_time": "2023-04-12T19:52:00.574084",
          "status": "completed"
        },
        "tags": [],
        "id": "c094ea2b"
      },
      "outputs": [],
      "source": [
        "model=[]\n",
        "ac=[]"
      ]
    },
    {
      "cell_type": "code",
      "execution_count": null,
      "id": "e8a632e5",
      "metadata": {
        "execution": {
          "iopub.execute_input": "2023-04-12T19:52:00.675168Z",
          "iopub.status.busy": "2023-04-12T19:52:00.673922Z",
          "iopub.status.idle": "2023-04-12T19:52:00.680092Z",
          "shell.execute_reply": "2023-04-12T19:52:00.679007Z"
        },
        "papermill": {
          "duration": 0.040241,
          "end_time": "2023-04-12T19:52:00.682911",
          "exception": false,
          "start_time": "2023-04-12T19:52:00.642670",
          "status": "completed"
        },
        "tags": [],
        "id": "e8a632e5"
      },
      "outputs": [],
      "source": [
        "# importing performance metrices:\n",
        "from sklearn.metrics import classification_report as report\n",
        "from sklearn.metrics import accuracy_score as accuracy\n",
        "from sklearn.metrics import recall_score as recall\n",
        "from sklearn.metrics import precision_score as precision\n",
        "from sklearn.metrics import confusion_matrix as conf"
      ]
    },
    {
      "cell_type": "code",
      "execution_count": null,
      "id": "982f7990",
      "metadata": {
        "execution": {
          "iopub.execute_input": "2023-04-12T19:52:00.743587Z",
          "iopub.status.busy": "2023-04-12T19:52:00.743188Z",
          "iopub.status.idle": "2023-04-12T19:52:00.762898Z",
          "shell.execute_reply": "2023-04-12T19:52:00.761517Z"
        },
        "papermill": {
          "duration": 0.055262,
          "end_time": "2023-04-12T19:52:00.767637",
          "exception": false,
          "start_time": "2023-04-12T19:52:00.712375",
          "status": "completed"
        },
        "tags": [],
        "id": "982f7990",
        "outputId": "a209959f-7ccc-4dd1-d2b0-612f05961195"
      },
      "outputs": [
        {
          "data": {
            "text/plain": [
              "4202    0.108623\n",
              "2192    0.144175\n",
              "1996    0.108107\n",
              "3001    0.206453\n",
              "3883    0.372218\n",
              "          ...   \n",
              "3484    0.300504\n",
              "2320    0.141846\n",
              "3649    0.127231\n",
              "3118    0.101590\n",
              "1525    0.142641\n",
              "Length: 848, dtype: float64"
            ]
          },
          "execution_count": 25,
          "metadata": {},
          "output_type": "execute_result"
        }
      ],
      "source": [
        "# Generaing Predictions:\n",
        "# predicted values:\n",
        "y_pred=logReg.predict(sm.add_constant(x_test))\n",
        "y_pred\n",
        "# here, logReg.predict(), gave probabilities instead of binary values\n",
        "# because, in statsmodels, there is no default threshold value fixed for regression.\n",
        "# hence we have to define our own threshold and convert probabilities to binary."
      ]
    },
    {
      "cell_type": "markdown",
      "id": "ad026347",
      "metadata": {
        "papermill": {
          "duration": 0.048418,
          "end_time": "2023-04-12T19:52:00.891767",
          "exception": false,
          "start_time": "2023-04-12T19:52:00.843349",
          "status": "completed"
        },
        "tags": [],
        "id": "ad026347"
      },
      "source": [
        "#### Converting probabilities into binary values:"
      ]
    },
    {
      "cell_type": "code",
      "execution_count": null,
      "id": "e2622fd2",
      "metadata": {
        "execution": {
          "iopub.execute_input": "2023-04-12T19:52:00.954610Z",
          "iopub.status.busy": "2023-04-12T19:52:00.953426Z",
          "iopub.status.idle": "2023-04-12T19:52:00.959517Z",
          "shell.execute_reply": "2023-04-12T19:52:00.958586Z"
        },
        "papermill": {
          "duration": 0.040274,
          "end_time": "2023-04-12T19:52:00.961943",
          "exception": false,
          "start_time": "2023-04-12T19:52:00.921669",
          "status": "completed"
        },
        "tags": [],
        "id": "e2622fd2"
      },
      "outputs": [],
      "source": [
        "# Setting Threshold value:\n",
        "# let threshold = t\n",
        "t=0.5\n",
        "# converting probabilities to binary values (as per threshold):\n",
        "y_pred_binary=np.where(y_pred.values >= t, 1, 0)"
      ]
    },
    {
      "cell_type": "markdown",
      "id": "bb5e4faf",
      "metadata": {
        "papermill": {
          "duration": 0.029736,
          "end_time": "2023-04-12T19:52:01.021016",
          "exception": false,
          "start_time": "2023-04-12T19:52:00.991280",
          "status": "completed"
        },
        "tags": [],
        "id": "bb5e4faf"
      },
      "source": [
        "#### Confusion Matrix:"
      ]
    },
    {
      "cell_type": "code",
      "execution_count": null,
      "id": "9754d441",
      "metadata": {
        "execution": {
          "iopub.execute_input": "2023-04-12T19:52:01.083902Z",
          "iopub.status.busy": "2023-04-12T19:52:01.083048Z",
          "iopub.status.idle": "2023-04-12T19:52:01.246138Z",
          "shell.execute_reply": "2023-04-12T19:52:01.244585Z"
        },
        "papermill": {
          "duration": 0.198134,
          "end_time": "2023-04-12T19:52:01.249104",
          "exception": false,
          "start_time": "2023-04-12T19:52:01.050970",
          "status": "completed"
        },
        "tags": [],
        "id": "9754d441",
        "outputId": "b3f1b79d-5608-4cb1-d5f6-56689a8e591c"
      },
      "outputs": [
        {
          "data": {
            "image/png": "[encoded data removed]",
            "text/plain": [
              "<Figure size 252x252 with 1 Axes>"
            ]
          },
          "metadata": {
            "needs_background": "light"
          },
          "output_type": "display_data"
        }
      ],
      "source": [
        "cm=conf(y_test,y_pred_binary)\n",
        "cm[0][0],cm[1][1]=cm[1][1],cm[0][0]\n",
        "cm=pd.DataFrame(cm,index=['True_predicted','False_predicted'],columns=['True_Actual','False_Actual'])\n",
        "\n",
        "plt.subplots(figsize=(3.5,3.5))\n",
        "sns.heatmap(cm,cmap='BuGn',annot=True,fmt='.0f',cbar=False)\n",
        "plt.show()"
      ]
    },
    {
      "cell_type": "markdown",
      "id": "b5d3dedd",
      "metadata": {
        "papermill": {
          "duration": 0.030072,
          "end_time": "2023-04-12T19:52:01.310484",
          "exception": false,
          "start_time": "2023-04-12T19:52:01.280412",
          "status": "completed"
        },
        "tags": [],
        "id": "b5d3dedd"
      },
      "source": [
        "#### Accuracy, Recall and Precision:"
      ]
    },
    {
      "cell_type": "code",
      "execution_count": null,
      "id": "6014a3c1",
      "metadata": {
        "execution": {
          "iopub.execute_input": "2023-04-12T19:52:01.374715Z",
          "iopub.status.busy": "2023-04-12T19:52:01.374290Z",
          "iopub.status.idle": "2023-04-12T19:52:01.385969Z",
          "shell.execute_reply": "2023-04-12T19:52:01.384250Z"
        },
        "papermill": {
          "duration": 0.047135,
          "end_time": "2023-04-12T19:52:01.388929",
          "exception": false,
          "start_time": "2023-04-12T19:52:01.341794",
          "status": "completed"
        },
        "tags": [],
        "id": "6014a3c1",
        "outputId": "69405d6c-5f46-4e1a-f222-c3a15c371939"
      },
      "outputs": [
        {
          "name": "stdout",
          "output_type": "stream",
          "text": [
            "Accuracy: 87.85377358490565 %\n",
            "Recall: 10.81081081081081 %\n",
            "Precision: 75.0 %\n"
          ]
        }
      ],
      "source": [
        "print(\"Accuracy:\",accuracy(y_test,y_pred_binary)*100,\"%\")\n",
        "print(\"Recall:\",recall(y_test,y_pred_binary)*100,\"%\")\n",
        "print(\"Precision:\",precision(y_test,y_pred_binary)*100,\"%\")"
      ]
    },
    {
      "cell_type": "code",
      "execution_count": null,
      "id": "2b5de750",
      "metadata": {
        "execution": {
          "iopub.execute_input": "2023-04-12T19:52:01.451579Z",
          "iopub.status.busy": "2023-04-12T19:52:01.450682Z",
          "iopub.status.idle": "2023-04-12T19:52:01.457626Z",
          "shell.execute_reply": "2023-04-12T19:52:01.456324Z"
        },
        "papermill": {
          "duration": 0.041544,
          "end_time": "2023-04-12T19:52:01.460160",
          "exception": false,
          "start_time": "2023-04-12T19:52:01.418616",
          "status": "completed"
        },
        "tags": [],
        "id": "2b5de750"
      },
      "outputs": [],
      "source": [
        "model.append('LogReg')\n",
        "ac.append(accuracy(y_test,y_pred_binary)*100)"
      ]
    },
    {
      "cell_type": "markdown",
      "id": "7ba8a675",
      "metadata": {
        "papermill": {
          "duration": 0.030303,
          "end_time": "2023-04-12T19:52:01.520205",
          "exception": false,
          "start_time": "2023-04-12T19:52:01.489902",
          "status": "completed"
        },
        "tags": [],
        "id": "7ba8a675"
      },
      "source": [
        "* *Observations:*\n",
        "    * Our Model is currently **more selective than sensitive** in nature, as **precision > recall**."
      ]
    },
    {
      "cell_type": "markdown",
      "id": "9301ae75",
      "metadata": {
        "papermill": {
          "duration": 0.030463,
          "end_time": "2023-04-12T19:52:01.581261",
          "exception": false,
          "start_time": "2023-04-12T19:52:01.550798",
          "status": "completed"
        },
        "tags": [],
        "id": "9301ae75"
      },
      "source": [
        "* In case of any disease detection, **Recall** is a very significant metric.\n",
        "* Because **False Negative** detections can be **fatal** for the life of person.\n",
        "* Hence our aim is to **improve** the **recall metric (or sensitivity)** of our model."
      ]
    },
    {
      "cell_type": "markdown",
      "id": "b9a08d1d",
      "metadata": {
        "papermill": {
          "duration": 0.030568,
          "end_time": "2023-04-12T19:52:01.644013",
          "exception": false,
          "start_time": "2023-04-12T19:52:01.613445",
          "status": "completed"
        },
        "tags": [],
        "id": "b9a08d1d"
      },
      "source": [
        "* In order to make model more sensetive to the **Risk**:\n",
        "    *  **We need to lower the threshold of our model**\n",
        "    * we have used initial threshold as **0.5**\n",
        "    * We have to carefully **lower our threshold** to some value, such that recall becomes significantly higher, without heavily hampering accuracy."
      ]
    },
    {
      "cell_type": "markdown",
      "id": "97fb9e25",
      "metadata": {
        "id": "97fb9e25"
      },
      "source": [
        "### In the bekow piece of code we are further optimizing"
      ]
    },
    {
      "cell_type": "code",
      "execution_count": null,
      "id": "d2d480f8",
      "metadata": {
        "execution": {
          "iopub.execute_input": "2023-04-12T19:52:01.770266Z",
          "iopub.status.busy": "2023-04-12T19:52:01.769800Z",
          "iopub.status.idle": "2023-04-12T19:52:02.071999Z",
          "shell.execute_reply": "2023-04-12T19:52:02.070638Z"
        },
        "papermill": {
          "duration": 0.336699,
          "end_time": "2023-04-12T19:52:02.074884",
          "exception": false,
          "start_time": "2023-04-12T19:52:01.738185",
          "status": "completed"
        },
        "tags": [],
        "id": "d2d480f8",
        "outputId": "73a40b45-0a6d-47ba-dc21-3cbf241c265c"
      },
      "outputs": [
        {
          "data": {
            "image/png": "[encoded data removed]",
            "text/plain": [
              "<Figure size 432x288 with 1 Axes>"
            ]
          },
          "metadata": {
            "needs_background": "light"
          },
          "output_type": "display_data"
        }
      ],
      "source": [
        "y_pred_binary_curr=y_pred_binary\n",
        "# plotting threshold against, accuracy, recall and precision:\n",
        "threshold=[0.50,0.45,0.40,0.35,0.30,0.25,0.20,0.15,0.10,0.05]\n",
        "rec=[]\n",
        "acc=[]\n",
        "pre=[]\n",
        "\n",
        "for t in threshold:\n",
        "    y_pred_binary_curr=np.where(y_pred >= t, 1, 0)\n",
        "    acc.append(accuracy(y_test,y_pred_binary_curr))\n",
        "    rec.append(recall(y_test,y_pred_binary_curr))\n",
        "    pre.append(precision(y_test,y_pred_binary_curr))\n",
        "    \n",
        "plt.plot(threshold,acc,label='Accuracy')\n",
        "plt.plot(threshold,rec,label='Recall')\n",
        "plt.plot(threshold,pre,label='Precision')\n",
        "plt.xlim(max(threshold), min(threshold))\n",
        "plt.title(\"Accuracy-Recall trade-off\")\n",
        "plt.xlabel(\"Threshold\")\n",
        "plt.ylabel(\"Score\")\n",
        "plt.legend()\n",
        "plt.show()"
      ]
    },
    {
      "cell_type": "markdown",
      "id": "0f54e31f",
      "metadata": {
        "papermill": {
          "duration": 0.030502,
          "end_time": "2023-04-12T19:52:02.137168",
          "exception": false,
          "start_time": "2023-04-12T19:52:02.106666",
          "status": "completed"
        },
        "tags": [],
        "id": "0f54e31f"
      },
      "source": [
        "### Accuracy decreases exponentially, with decrease in threshold.\n",
        "### Precision decreases linearly, with decrease in threshold.\n",
        "### Recall increases linearly, with decrease in threshold.\n",
        "### Most suitable value of threshold is somewhere around 0.3"
      ]
    },
    {
      "cell_type": "code",
      "execution_count": null,
      "id": "d79db8cf",
      "metadata": {
        "execution": {
          "iopub.execute_input": "2023-04-12T19:52:02.200735Z",
          "iopub.status.busy": "2023-04-12T19:52:02.200285Z",
          "iopub.status.idle": "2023-04-12T19:52:02.207072Z",
          "shell.execute_reply": "2023-04-12T19:52:02.205551Z"
        },
        "papermill": {
          "duration": 0.042037,
          "end_time": "2023-04-12T19:52:02.209891",
          "exception": false,
          "start_time": "2023-04-12T19:52:02.167854",
          "status": "completed"
        },
        "tags": [],
        "id": "d79db8cf"
      },
      "outputs": [],
      "source": [
        "# Updating threshold:\n",
        "t=0.3\n",
        "y_pred_binary_curr=np.where(y_pred.values >= t, 1, 0)"
      ]
    },
    {
      "cell_type": "code",
      "execution_count": null,
      "id": "c6debc99",
      "metadata": {
        "execution": {
          "iopub.execute_input": "2023-04-12T19:52:02.273310Z",
          "iopub.status.busy": "2023-04-12T19:52:02.272874Z",
          "iopub.status.idle": "2023-04-12T19:52:02.374453Z",
          "shell.execute_reply": "2023-04-12T19:52:02.372597Z"
        },
        "papermill": {
          "duration": 0.138613,
          "end_time": "2023-04-12T19:52:02.379255",
          "exception": false,
          "start_time": "2023-04-12T19:52:02.240642",
          "status": "completed"
        },
        "tags": [],
        "id": "c6debc99",
        "outputId": "7ba4163d-1180-4755-9236-b0e182e894a3"
      },
      "outputs": [
        {
          "data": {
            "image/png": "[encoded data removed]",
            "text/plain": [
              "<Figure size 252x252 with 1 Axes>"
            ]
          },
          "metadata": {
            "needs_background": "light"
          },
          "output_type": "display_data"
        }
      ],
      "source": [
        "cmat=conf(y_test,y_pred_binary_curr)\n",
        "cmat[0][0],cmat[1][1]=cmat[1][1],cmat[0][0]\n",
        "cmat=pd.DataFrame(cmat,index=['True_predicted','False_predicted'],columns=['True_Actual','False_Actual'])\n",
        "plt.subplots(figsize=(3.5,3.5))\n",
        "sns.heatmap(cmat,cmap='BuGn',annot=True,fmt='.0f',cbar=False)\n",
        "plt.show()"
      ]
    },
    {
      "cell_type": "code",
      "execution_count": null,
      "id": "35afd3e5",
      "metadata": {
        "execution": {
          "iopub.execute_input": "2023-04-12T19:52:02.471715Z",
          "iopub.status.busy": "2023-04-12T19:52:02.471246Z",
          "iopub.status.idle": "2023-04-12T19:52:02.482296Z",
          "shell.execute_reply": "2023-04-12T19:52:02.480847Z"
        },
        "papermill": {
          "duration": 0.04658,
          "end_time": "2023-04-12T19:52:02.485176",
          "exception": false,
          "start_time": "2023-04-12T19:52:02.438596",
          "status": "completed"
        },
        "tags": [],
        "id": "35afd3e5",
        "outputId": "c970b119-d1d0-4ad6-88d0-9299f33f6e50"
      },
      "outputs": [
        {
          "name": "stdout",
          "output_type": "stream",
          "text": [
            "Accuracy: 80.89622641509435 %\n",
            "Recall: 41.44144144144144 %\n",
            "Precision: 32.16783216783217 %\n"
          ]
        }
      ],
      "source": [
        "print(\"Accuracy:\",accuracy(y_test,y_pred_binary_curr)*100,\"%\")\n",
        "print(\"Recall:\",recall(y_test,y_pred_binary_curr)*100,\"%\")\n",
        "print(\"Precision:\",precision(y_test,y_pred_binary_curr)*100,\"%\")"
      ]
    },
    {
      "cell_type": "markdown",
      "id": "488cbdb3",
      "metadata": {
        "papermill": {
          "duration": 0.031447,
          "end_time": "2023-04-12T19:52:02.548647",
          "exception": false,
          "start_time": "2023-04-12T19:52:02.517200",
          "status": "completed"
        },
        "tags": [],
        "id": "488cbdb3"
      },
      "source": [
        "### Conclusion:\n",
        "\n",
        "### Maximum accuracy obtained by our model was around 88% at initial threshold t=0.5\n",
        "### But our recall (sensitivity) metric was very low 7% at t=0.5.\n",
        "### Hence we had to trade-off some accuracy in order to make our model more sensetive. (i.e. to increase Recall)\n",
        "### We have finally at t=0.3, obtained a significant 41% recall with 80% accuracy. (A very fair trade-off)\n",
        "### We can further decrease threshold in order to make model more sensitive than selective."
      ]
    },
    {
      "cell_type": "code",
      "execution_count": null,
      "id": "a735dc2b",
      "metadata": {
        "id": "a735dc2b"
      },
      "outputs": [],
      "source": []
    },
    {
      "cell_type": "markdown",
      "id": "ce43fca0",
      "metadata": {
        "id": "ce43fca0"
      },
      "source": [
        "# Training using KNN Classifier"
      ]
    },
    {
      "cell_type": "code",
      "execution_count": null,
      "id": "2034839b",
      "metadata": {
        "execution": {
          "iopub.execute_input": "2023-04-12T19:52:27.076566Z",
          "iopub.status.busy": "2023-04-12T19:52:27.075712Z",
          "iopub.status.idle": "2023-04-12T19:52:27.102630Z",
          "shell.execute_reply": "2023-04-12T19:52:27.101385Z"
        },
        "papermill": {
          "duration": 0.073996,
          "end_time": "2023-04-12T19:52:27.105514",
          "exception": false,
          "start_time": "2023-04-12T19:52:27.031518",
          "status": "completed"
        },
        "tags": [],
        "id": "2034839b",
        "outputId": "66d6e3a5-85c7-4cae-e057-8c32bbb4db8c"
      },
      "outputs": [
        {
          "data": {
            "text/plain": [
              "KNeighborsClassifier()"
            ]
          },
          "execution_count": 34,
          "metadata": {},
          "output_type": "execute_result"
        }
      ],
      "source": [
        "from sklearn.neighbors import KNeighborsClassifier\n",
        "\n",
        "knn=KNeighborsClassifier()\n",
        "knn.fit(x_train_resample,y_train_resample)"
      ]
    },
    {
      "cell_type": "code",
      "execution_count": null,
      "id": "92a8c63e",
      "metadata": {
        "execution": {
          "iopub.execute_input": "2023-04-12T19:52:27.183002Z",
          "iopub.status.busy": "2023-04-12T19:52:27.181967Z",
          "iopub.status.idle": "2023-04-12T19:52:27.238107Z",
          "shell.execute_reply": "2023-04-12T19:52:27.236512Z"
        },
        "papermill": {
          "duration": 0.098775,
          "end_time": "2023-04-12T19:52:27.240998",
          "exception": false,
          "start_time": "2023-04-12T19:52:27.142223",
          "status": "completed"
        },
        "tags": [],
        "id": "92a8c63e",
        "outputId": "c9d2308d-cb68-4bfc-f230-0b412545adcc"
      },
      "outputs": [
        {
          "data": {
            "text/plain": [
              "83.25471698113208"
            ]
          },
          "execution_count": 35,
          "metadata": {},
          "output_type": "execute_result"
        }
      ],
      "source": [
        "knn.score(x_test,y_test)*100"
      ]
    },
    {
      "cell_type": "code",
      "execution_count": null,
      "id": "f170ca19",
      "metadata": {
        "execution": {
          "iopub.execute_input": "2023-04-12T19:52:27.414823Z",
          "iopub.status.busy": "2023-04-12T19:52:27.413714Z",
          "iopub.status.idle": "2023-04-12T19:52:27.467950Z",
          "shell.execute_reply": "2023-04-12T19:52:27.466904Z"
        },
        "papermill": {
          "duration": 0.193029,
          "end_time": "2023-04-12T19:52:27.471016",
          "exception": false,
          "start_time": "2023-04-12T19:52:27.277987",
          "status": "completed"
        },
        "tags": [],
        "id": "f170ca19"
      },
      "outputs": [],
      "source": [
        "model.append('KNN')\n",
        "ac.append(knn.score(x_test,y_test)*100)"
      ]
    },
    {
      "cell_type": "markdown",
      "id": "ac7c9860",
      "metadata": {
        "papermill": {
          "duration": 0.0378,
          "end_time": "2023-04-12T19:52:27.547898",
          "exception": false,
          "start_time": "2023-04-12T19:52:27.510098",
          "status": "completed"
        },
        "tags": [],
        "id": "ac7c9860"
      },
      "source": [
        "### Confusion Matrix:"
      ]
    },
    {
      "cell_type": "code",
      "execution_count": null,
      "id": "a58908ed",
      "metadata": {
        "execution": {
          "iopub.execute_input": "2023-04-12T19:52:27.624146Z",
          "iopub.status.busy": "2023-04-12T19:52:27.623112Z",
          "iopub.status.idle": "2023-04-12T19:52:27.822046Z",
          "shell.execute_reply": "2023-04-12T19:52:27.820631Z"
        },
        "papermill": {
          "duration": 0.240103,
          "end_time": "2023-04-12T19:52:27.824981",
          "exception": false,
          "start_time": "2023-04-12T19:52:27.584878",
          "status": "completed"
        },
        "tags": [],
        "id": "a58908ed",
        "outputId": "389095b1-b34e-424e-ea5a-68f4e3a1c278"
      },
      "outputs": [
        {
          "data": {
            "image/png": "[encoded data removed]",
            "text/plain": [
              "<Figure size 252x252 with 1 Axes>"
            ]
          },
          "metadata": {
            "needs_background": "light"
          },
          "output_type": "display_data"
        }
      ],
      "source": [
        "y_pred=knn.predict(x_test)\n",
        "cmat=conf(y_test,y_pred)\n",
        "cmat[0][0],cmat[1][1]=cmat[1][1],cmat[0][0]\n",
        "cmat=pd.DataFrame(cmat,index=['True_predicted','False_predicted'],columns=['True_Actual','False_Actual'])\n",
        "plt.subplots(figsize=(3.5,3.5))\n",
        "sns.heatmap(cmat,cmap='BuGn',annot=True,fmt='.0f',cbar=False)\n",
        "plt.show()"
      ]
    },
    {
      "cell_type": "markdown",
      "id": "209bd475",
      "metadata": {
        "papermill": {
          "duration": 0.036818,
          "end_time": "2023-04-12T19:52:27.899886",
          "exception": false,
          "start_time": "2023-04-12T19:52:27.863068",
          "status": "completed"
        },
        "tags": [],
        "id": "209bd475"
      },
      "source": [
        "### Hyperparameter Tuning:"
      ]
    },
    {
      "cell_type": "code",
      "execution_count": null,
      "id": "764a6591",
      "metadata": {
        "execution": {
          "iopub.execute_input": "2023-04-12T19:52:27.975183Z",
          "iopub.status.busy": "2023-04-12T19:52:27.974417Z",
          "iopub.status.idle": "2023-04-12T19:52:27.981328Z",
          "shell.execute_reply": "2023-04-12T19:52:27.979976Z"
        },
        "papermill": {
          "duration": 0.047591,
          "end_time": "2023-04-12T19:52:27.983813",
          "exception": false,
          "start_time": "2023-04-12T19:52:27.936222",
          "status": "completed"
        },
        "tags": [],
        "id": "764a6591"
      },
      "outputs": [],
      "source": [
        "from sklearn.model_selection import GridSearchCV,RepeatedStratifiedKFold\n",
        "\n",
        "grid={\n",
        "    'n_neighbors': [1,2,3,4,5],\n",
        "    'weights': ['uniform','distance'],\n",
        "    'algorithm': ['auto','ball_tree','kd_tree'],\n",
        "    'metric': ['manhattan','euclidian','minkowski']\n",
        "}"
      ]
    },
    {
      "cell_type": "code",
      "execution_count": null,
      "id": "954efe96",
      "metadata": {
        "execution": {
          "iopub.execute_input": "2023-04-12T19:52:28.059697Z",
          "iopub.status.busy": "2023-04-12T19:52:28.058735Z",
          "iopub.status.idle": "2023-04-12T19:52:39.242530Z",
          "shell.execute_reply": "2023-04-12T19:52:39.241131Z"
        },
        "papermill": {
          "duration": 11.224426,
          "end_time": "2023-04-12T19:52:39.245272",
          "exception": false,
          "start_time": "2023-04-12T19:52:28.020846",
          "status": "completed"
        },
        "tags": [],
        "id": "954efe96",
        "outputId": "9bde47d7-0619-4bee-944b-d5ce55a28ed9"
      },
      "outputs": [
        {
          "data": {
            "text/html": [
              "<div>\n",
              "<style scoped>\n",
              "    .dataframe tbody tr th:only-of-type {\n",
              "        vertical-align: middle;\n",
              "    }\n",
              "\n",
              "    .dataframe tbody tr th {\n",
              "        vertical-align: top;\n",
              "    }\n",
              "\n",
              "    .dataframe thead th {\n",
              "        text-align: right;\n",
              "    }\n",
              "</style>\n",
              "<table border=\"1\" class=\"dataframe\">\n",
              "  <thead>\n",
              "    <tr style=\"text-align: right;\">\n",
              "      <th></th>\n",
              "      <th>0</th>\n",
              "      <th>1</th>\n",
              "      <th>2</th>\n",
              "      <th>3</th>\n",
              "      <th>4</th>\n",
              "      <th>5</th>\n",
              "      <th>6</th>\n",
              "      <th>7</th>\n",
              "      <th>8</th>\n",
              "      <th>9</th>\n",
              "      <th>...</th>\n",
              "      <th>80</th>\n",
              "      <th>81</th>\n",
              "      <th>82</th>\n",
              "      <th>83</th>\n",
              "      <th>84</th>\n",
              "      <th>85</th>\n",
              "      <th>86</th>\n",
              "      <th>87</th>\n",
              "      <th>88</th>\n",
              "      <th>89</th>\n",
              "    </tr>\n",
              "  </thead>\n",
              "  <tbody>\n",
              "    <tr>\n",
              "      <th>mean_fit_time</th>\n",
              "      <td>0.007099</td>\n",
              "      <td>0.005895</td>\n",
              "      <td>0.006286</td>\n",
              "      <td>0.006101</td>\n",
              "      <td>0.0063</td>\n",
              "      <td>0.006494</td>\n",
              "      <td>0.007785</td>\n",
              "      <td>0.006585</td>\n",
              "      <td>0.006096</td>\n",
              "      <td>0.006582</td>\n",
              "      <td>...</td>\n",
              "      <td>0.006384</td>\n",
              "      <td>0.00738</td>\n",
              "      <td>0.00718</td>\n",
              "      <td>0.006183</td>\n",
              "      <td>0.006779</td>\n",
              "      <td>0.006908</td>\n",
              "      <td>0.006383</td>\n",
              "      <td>0.006584</td>\n",
              "      <td>0.007109</td>\n",
              "      <td>0.006983</td>\n",
              "    </tr>\n",
              "    <tr>\n",
              "      <th>std_fit_time</th>\n",
              "      <td>0.002044</td>\n",
              "      <td>0.000502</td>\n",
              "      <td>0.001074</td>\n",
              "      <td>0.000467</td>\n",
              "      <td>0.000412</td>\n",
              "      <td>0.000457</td>\n",
              "      <td>0.001713</td>\n",
              "      <td>0.000489</td>\n",
              "      <td>0.000221</td>\n",
              "      <td>0.000488</td>\n",
              "      <td>...</td>\n",
              "      <td>0.000487</td>\n",
              "      <td>0.00185</td>\n",
              "      <td>0.001323</td>\n",
              "      <td>0.000399</td>\n",
              "      <td>0.000748</td>\n",
              "      <td>0.000513</td>\n",
              "      <td>0.000489</td>\n",
              "      <td>0.000489</td>\n",
              "      <td>0.0017</td>\n",
              "      <td>0.000633</td>\n",
              "    </tr>\n",
              "    <tr>\n",
              "      <th>mean_score_time</th>\n",
              "      <td>0.03524</td>\n",
              "      <td>0.013565</td>\n",
              "      <td>0.035113</td>\n",
              "      <td>0.015966</td>\n",
              "      <td>0.038426</td>\n",
              "      <td>0.020944</td>\n",
              "      <td>0.04839</td>\n",
              "      <td>0.019673</td>\n",
              "      <td>0.037524</td>\n",
              "      <td>0.021869</td>\n",
              "      <td>...</td>\n",
              "      <td>0.028132</td>\n",
              "      <td>0.013076</td>\n",
              "      <td>0.041818</td>\n",
              "      <td>0.011672</td>\n",
              "      <td>0.03183</td>\n",
              "      <td>0.014083</td>\n",
              "      <td>0.035106</td>\n",
              "      <td>0.01546</td>\n",
              "      <td>0.03524</td>\n",
              "      <td>0.015055</td>\n",
              "    </tr>\n",
              "    <tr>\n",
              "      <th>std_score_time</th>\n",
              "      <td>0.00638</td>\n",
              "      <td>0.001219</td>\n",
              "      <td>0.00316</td>\n",
              "      <td>0.000632</td>\n",
              "      <td>0.001436</td>\n",
              "      <td>0.004764</td>\n",
              "      <td>0.013103</td>\n",
              "      <td>0.00176</td>\n",
              "      <td>0.002163</td>\n",
              "      <td>0.001681</td>\n",
              "      <td>...</td>\n",
              "      <td>0.002151</td>\n",
              "      <td>0.00424</td>\n",
              "      <td>0.008966</td>\n",
              "      <td>0.000747</td>\n",
              "      <td>0.001025</td>\n",
              "      <td>0.001187</td>\n",
              "      <td>0.004812</td>\n",
              "      <td>0.002746</td>\n",
              "      <td>0.007606</td>\n",
              "      <td>0.001016</td>\n",
              "    </tr>\n",
              "    <tr>\n",
              "      <th>param_algorithm</th>\n",
              "      <td>auto</td>\n",
              "      <td>auto</td>\n",
              "      <td>auto</td>\n",
              "      <td>auto</td>\n",
              "      <td>auto</td>\n",
              "      <td>auto</td>\n",
              "      <td>auto</td>\n",
              "      <td>auto</td>\n",
              "      <td>auto</td>\n",
              "      <td>auto</td>\n",
              "      <td>...</td>\n",
              "      <td>kd_tree</td>\n",
              "      <td>kd_tree</td>\n",
              "      <td>kd_tree</td>\n",
              "      <td>kd_tree</td>\n",
              "      <td>kd_tree</td>\n",
              "      <td>kd_tree</td>\n",
              "      <td>kd_tree</td>\n",
              "      <td>kd_tree</td>\n",
              "      <td>kd_tree</td>\n",
              "      <td>kd_tree</td>\n",
              "    </tr>\n",
              "    <tr>\n",
              "      <th>param_metric</th>\n",
              "      <td>manhattan</td>\n",
              "      <td>manhattan</td>\n",
              "      <td>manhattan</td>\n",
              "      <td>manhattan</td>\n",
              "      <td>manhattan</td>\n",
              "      <td>manhattan</td>\n",
              "      <td>manhattan</td>\n",
              "      <td>manhattan</td>\n",
              "      <td>manhattan</td>\n",
              "      <td>manhattan</td>\n",
              "      <td>...</td>\n",
              "      <td>minkowski</td>\n",
              "      <td>minkowski</td>\n",
              "      <td>minkowski</td>\n",
              "      <td>minkowski</td>\n",
              "      <td>minkowski</td>\n",
              "      <td>minkowski</td>\n",
              "      <td>minkowski</td>\n",
              "      <td>minkowski</td>\n",
              "      <td>minkowski</td>\n",
              "      <td>minkowski</td>\n",
              "    </tr>\n",
              "    <tr>\n",
              "      <th>param_n_neighbors</th>\n",
              "      <td>1</td>\n",
              "      <td>1</td>\n",
              "      <td>2</td>\n",
              "      <td>2</td>\n",
              "      <td>3</td>\n",
              "      <td>3</td>\n",
              "      <td>4</td>\n",
              "      <td>4</td>\n",
              "      <td>5</td>\n",
              "      <td>5</td>\n",
              "      <td>...</td>\n",
              "      <td>1</td>\n",
              "      <td>1</td>\n",
              "      <td>2</td>\n",
              "      <td>2</td>\n",
              "      <td>3</td>\n",
              "      <td>3</td>\n",
              "      <td>4</td>\n",
              "      <td>4</td>\n",
              "      <td>5</td>\n",
              "      <td>5</td>\n",
              "    </tr>\n",
              "    <tr>\n",
              "      <th>param_weights</th>\n",
              "      <td>uniform</td>\n",
              "      <td>distance</td>\n",
              "      <td>uniform</td>\n",
              "      <td>distance</td>\n",
              "      <td>uniform</td>\n",
              "      <td>distance</td>\n",
              "      <td>uniform</td>\n",
              "      <td>distance</td>\n",
              "      <td>uniform</td>\n",
              "      <td>distance</td>\n",
              "      <td>...</td>\n",
              "      <td>uniform</td>\n",
              "      <td>distance</td>\n",
              "      <td>uniform</td>\n",
              "      <td>distance</td>\n",
              "      <td>uniform</td>\n",
              "      <td>distance</td>\n",
              "      <td>uniform</td>\n",
              "      <td>distance</td>\n",
              "      <td>uniform</td>\n",
              "      <td>distance</td>\n",
              "    </tr>\n",
              "    <tr>\n",
              "      <th>params</th>\n",
              "      <td>{'algorithm': 'auto', 'metric': 'manhattan', '...</td>\n",
              "      <td>{'algorithm': 'auto', 'metric': 'manhattan', '...</td>\n",
              "      <td>{'algorithm': 'auto', 'metric': 'manhattan', '...</td>\n",
              "      <td>{'algorithm': 'auto', 'metric': 'manhattan', '...</td>\n",
              "      <td>{'algorithm': 'auto', 'metric': 'manhattan', '...</td>\n",
              "      <td>{'algorithm': 'auto', 'metric': 'manhattan', '...</td>\n",
              "      <td>{'algorithm': 'auto', 'metric': 'manhattan', '...</td>\n",
              "      <td>{'algorithm': 'auto', 'metric': 'manhattan', '...</td>\n",
              "      <td>{'algorithm': 'auto', 'metric': 'manhattan', '...</td>\n",
              "      <td>{'algorithm': 'auto', 'metric': 'manhattan', '...</td>\n",
              "      <td>...</td>\n",
              "      <td>{'algorithm': 'kd_tree', 'metric': 'minkowski'...</td>\n",
              "      <td>{'algorithm': 'kd_tree', 'metric': 'minkowski'...</td>\n",
              "      <td>{'algorithm': 'kd_tree', 'metric': 'minkowski'...</td>\n",
              "      <td>{'algorithm': 'kd_tree', 'metric': 'minkowski'...</td>\n",
              "      <td>{'algorithm': 'kd_tree', 'metric': 'minkowski'...</td>\n",
              "      <td>{'algorithm': 'kd_tree', 'metric': 'minkowski'...</td>\n",
              "      <td>{'algorithm': 'kd_tree', 'metric': 'minkowski'...</td>\n",
              "      <td>{'algorithm': 'kd_tree', 'metric': 'minkowski'...</td>\n",
              "      <td>{'algorithm': 'kd_tree', 'metric': 'minkowski'...</td>\n",
              "      <td>{'algorithm': 'kd_tree', 'metric': 'minkowski'...</td>\n",
              "    </tr>\n",
              "    <tr>\n",
              "      <th>split0_test_score</th>\n",
              "      <td>0.805594</td>\n",
              "      <td>0.805594</td>\n",
              "      <td>0.806993</td>\n",
              "      <td>0.805594</td>\n",
              "      <td>0.78042</td>\n",
              "      <td>0.79021</td>\n",
              "      <td>0.788811</td>\n",
              "      <td>0.802797</td>\n",
              "      <td>0.783217</td>\n",
              "      <td>0.8</td>\n",
              "      <td>...</td>\n",
              "      <td>0.779021</td>\n",
              "      <td>0.779021</td>\n",
              "      <td>0.801399</td>\n",
              "      <td>0.779021</td>\n",
              "      <td>0.776224</td>\n",
              "      <td>0.79021</td>\n",
              "      <td>0.793007</td>\n",
              "      <td>0.794406</td>\n",
              "      <td>0.781818</td>\n",
              "      <td>0.801399</td>\n",
              "    </tr>\n",
              "    <tr>\n",
              "      <th>split1_test_score</th>\n",
              "      <td>0.771709</td>\n",
              "      <td>0.771709</td>\n",
              "      <td>0.792717</td>\n",
              "      <td>0.771709</td>\n",
              "      <td>0.759104</td>\n",
              "      <td>0.773109</td>\n",
              "      <td>0.791317</td>\n",
              "      <td>0.777311</td>\n",
              "      <td>0.77451</td>\n",
              "      <td>0.796919</td>\n",
              "      <td>...</td>\n",
              "      <td>0.770308</td>\n",
              "      <td>0.770308</td>\n",
              "      <td>0.794118</td>\n",
              "      <td>0.770308</td>\n",
              "      <td>0.766106</td>\n",
              "      <td>0.784314</td>\n",
              "      <td>0.795518</td>\n",
              "      <td>0.782913</td>\n",
              "      <td>0.778711</td>\n",
              "      <td>0.79972</td>\n",
              "    </tr>\n",
              "    <tr>\n",
              "      <th>split2_test_score</th>\n",
              "      <td>0.768908</td>\n",
              "      <td>0.768908</td>\n",
              "      <td>0.792717</td>\n",
              "      <td>0.768908</td>\n",
              "      <td>0.766106</td>\n",
              "      <td>0.784314</td>\n",
              "      <td>0.778711</td>\n",
              "      <td>0.791317</td>\n",
              "      <td>0.754902</td>\n",
              "      <td>0.780112</td>\n",
              "      <td>...</td>\n",
              "      <td>0.771709</td>\n",
              "      <td>0.771709</td>\n",
              "      <td>0.792717</td>\n",
              "      <td>0.771709</td>\n",
              "      <td>0.770308</td>\n",
              "      <td>0.794118</td>\n",
              "      <td>0.789916</td>\n",
              "      <td>0.795518</td>\n",
              "      <td>0.767507</td>\n",
              "      <td>0.794118</td>\n",
              "    </tr>\n",
              "    <tr>\n",
              "      <th>split3_test_score</th>\n",
              "      <td>0.740896</td>\n",
              "      <td>0.740896</td>\n",
              "      <td>0.796919</td>\n",
              "      <td>0.740896</td>\n",
              "      <td>0.764706</td>\n",
              "      <td>0.773109</td>\n",
              "      <td>0.80112</td>\n",
              "      <td>0.760504</td>\n",
              "      <td>0.789916</td>\n",
              "      <td>0.80112</td>\n",
              "      <td>...</td>\n",
              "      <td>0.745098</td>\n",
              "      <td>0.745098</td>\n",
              "      <td>0.794118</td>\n",
              "      <td>0.745098</td>\n",
              "      <td>0.7493</td>\n",
              "      <td>0.764706</td>\n",
              "      <td>0.782913</td>\n",
              "      <td>0.759104</td>\n",
              "      <td>0.757703</td>\n",
              "      <td>0.778711</td>\n",
              "    </tr>\n",
              "    <tr>\n",
              "      <th>split4_test_score</th>\n",
              "      <td>0.827731</td>\n",
              "      <td>0.827731</td>\n",
              "      <td>0.852941</td>\n",
              "      <td>0.827731</td>\n",
              "      <td>0.823529</td>\n",
              "      <td>0.87535</td>\n",
              "      <td>0.813725</td>\n",
              "      <td>0.876751</td>\n",
              "      <td>0.826331</td>\n",
              "      <td>0.904762</td>\n",
              "      <td>...</td>\n",
              "      <td>0.840336</td>\n",
              "      <td>0.840336</td>\n",
              "      <td>0.865546</td>\n",
              "      <td>0.840336</td>\n",
              "      <td>0.845938</td>\n",
              "      <td>0.90056</td>\n",
              "      <td>0.822129</td>\n",
              "      <td>0.894958</td>\n",
              "      <td>0.830532</td>\n",
              "      <td>0.906162</td>\n",
              "    </tr>\n",
              "    <tr>\n",
              "      <th>mean_test_score</th>\n",
              "      <td>0.782968</td>\n",
              "      <td>0.782968</td>\n",
              "      <td>0.808457</td>\n",
              "      <td>0.782968</td>\n",
              "      <td>0.778773</td>\n",
              "      <td>0.799218</td>\n",
              "      <td>0.794737</td>\n",
              "      <td>0.801736</td>\n",
              "      <td>0.785775</td>\n",
              "      <td>0.816583</td>\n",
              "      <td>...</td>\n",
              "      <td>0.781294</td>\n",
              "      <td>0.781294</td>\n",
              "      <td>0.809579</td>\n",
              "      <td>0.781294</td>\n",
              "      <td>0.781575</td>\n",
              "      <td>0.806781</td>\n",
              "      <td>0.796697</td>\n",
              "      <td>0.80538</td>\n",
              "      <td>0.783254</td>\n",
              "      <td>0.816022</td>\n",
              "    </tr>\n",
              "    <tr>\n",
              "      <th>std_test_score</th>\n",
              "      <td>0.030365</td>\n",
              "      <td>0.030365</td>\n",
              "      <td>0.022846</td>\n",
              "      <td>0.030365</td>\n",
              "      <td>0.023457</td>\n",
              "      <td>0.038633</td>\n",
              "      <td>0.011874</td>\n",
              "      <td>0.040084</td>\n",
              "      <td>0.023446</td>\n",
              "      <td>0.044736</td>\n",
              "      <td>...</td>\n",
              "      <td>0.031667</td>\n",
              "      <td>0.031667</td>\n",
              "      <td>0.028148</td>\n",
              "      <td>0.031667</td>\n",
              "      <td>0.033404</td>\n",
              "      <td>0.047968</td>\n",
              "      <td>0.0134</td>\n",
              "      <td>0.046665</td>\n",
              "      <td>0.025135</td>\n",
              "      <td>0.045775</td>\n",
              "    </tr>\n",
              "    <tr>\n",
              "      <th>rank_test_score</th>\n",
              "      <td>37</td>\n",
              "      <td>37</td>\n",
              "      <td>10</td>\n",
              "      <td>37</td>\n",
              "      <td>58</td>\n",
              "      <td>22</td>\n",
              "      <td>28</td>\n",
              "      <td>19</td>\n",
              "      <td>31</td>\n",
              "      <td>1</td>\n",
              "      <td>...</td>\n",
              "      <td>49</td>\n",
              "      <td>49</td>\n",
              "      <td>7</td>\n",
              "      <td>49</td>\n",
              "      <td>46</td>\n",
              "      <td>13</td>\n",
              "      <td>25</td>\n",
              "      <td>16</td>\n",
              "      <td>34</td>\n",
              "      <td>4</td>\n",
              "    </tr>\n",
              "  </tbody>\n",
              "</table>\n",
              "<p>17 rows × 90 columns</p>\n",
              "</div>"
            ],
            "text/plain": [
              "                                                                  0   \\\n",
              "mean_fit_time                                               0.007099   \n",
              "std_fit_time                                                0.002044   \n",
              "mean_score_time                                              0.03524   \n",
              "std_score_time                                               0.00638   \n",
              "param_algorithm                                                 auto   \n",
              "param_metric                                               manhattan   \n",
              "param_n_neighbors                                                  1   \n",
              "param_weights                                                uniform   \n",
              "params             {'algorithm': 'auto', 'metric': 'manhattan', '...   \n",
              "split0_test_score                                           0.805594   \n",
              "split1_test_score                                           0.771709   \n",
              "split2_test_score                                           0.768908   \n",
              "split3_test_score                                           0.740896   \n",
              "split4_test_score                                           0.827731   \n",
              "mean_test_score                                             0.782968   \n",
              "std_test_score                                              0.030365   \n",
              "rank_test_score                                                   37   \n",
              "\n",
              "                                                                  1   \\\n",
              "mean_fit_time                                               0.005895   \n",
              "std_fit_time                                                0.000502   \n",
              "mean_score_time                                             0.013565   \n",
              "std_score_time                                              0.001219   \n",
              "param_algorithm                                                 auto   \n",
              "param_metric                                               manhattan   \n",
              "param_n_neighbors                                                  1   \n",
              "param_weights                                               distance   \n",
              "params             {'algorithm': 'auto', 'metric': 'manhattan', '...   \n",
              "split0_test_score                                           0.805594   \n",
              "split1_test_score                                           0.771709   \n",
              "split2_test_score                                           0.768908   \n",
              "split3_test_score                                           0.740896   \n",
              "split4_test_score                                           0.827731   \n",
              "mean_test_score                                             0.782968   \n",
              "std_test_score                                              0.030365   \n",
              "rank_test_score                                                   37   \n",
              "\n",
              "                                                                  2   \\\n",
              "mean_fit_time                                               0.006286   \n",
              "std_fit_time                                                0.001074   \n",
              "mean_score_time                                             0.035113   \n",
              "std_score_time                                               0.00316   \n",
              "param_algorithm                                                 auto   \n",
              "param_metric                                               manhattan   \n",
              "param_n_neighbors                                                  2   \n",
              "param_weights                                                uniform   \n",
              "params             {'algorithm': 'auto', 'metric': 'manhattan', '...   \n",
              "split0_test_score                                           0.806993   \n",
              "split1_test_score                                           0.792717   \n",
              "split2_test_score                                           0.792717   \n",
              "split3_test_score                                           0.796919   \n",
              "split4_test_score                                           0.852941   \n",
              "mean_test_score                                             0.808457   \n",
              "std_test_score                                              0.022846   \n",
              "rank_test_score                                                   10   \n",
              "\n",
              "                                                                  3   \\\n",
              "mean_fit_time                                               0.006101   \n",
              "std_fit_time                                                0.000467   \n",
              "mean_score_time                                             0.015966   \n",
              "std_score_time                                              0.000632   \n",
              "param_algorithm                                                 auto   \n",
              "param_metric                                               manhattan   \n",
              "param_n_neighbors                                                  2   \n",
              "param_weights                                               distance   \n",
              "params             {'algorithm': 'auto', 'metric': 'manhattan', '...   \n",
              "split0_test_score                                           0.805594   \n",
              "split1_test_score                                           0.771709   \n",
              "split2_test_score                                           0.768908   \n",
              "split3_test_score                                           0.740896   \n",
              "split4_test_score                                           0.827731   \n",
              "mean_test_score                                             0.782968   \n",
              "std_test_score                                              0.030365   \n",
              "rank_test_score                                                   37   \n",
              "\n",
              "                                                                  4   \\\n",
              "mean_fit_time                                                 0.0063   \n",
              "std_fit_time                                                0.000412   \n",
              "mean_score_time                                             0.038426   \n",
              "std_score_time                                              0.001436   \n",
              "param_algorithm                                                 auto   \n",
              "param_metric                                               manhattan   \n",
              "param_n_neighbors                                                  3   \n",
              "param_weights                                                uniform   \n",
              "params             {'algorithm': 'auto', 'metric': 'manhattan', '...   \n",
              "split0_test_score                                            0.78042   \n",
              "split1_test_score                                           0.759104   \n",
              "split2_test_score                                           0.766106   \n",
              "split3_test_score                                           0.764706   \n",
              "split4_test_score                                           0.823529   \n",
              "mean_test_score                                             0.778773   \n",
              "std_test_score                                              0.023457   \n",
              "rank_test_score                                                   58   \n",
              "\n",
              "                                                                  5   \\\n",
              "mean_fit_time                                               0.006494   \n",
              "std_fit_time                                                0.000457   \n",
              "mean_score_time                                             0.020944   \n",
              "std_score_time                                              0.004764   \n",
              "param_algorithm                                                 auto   \n",
              "param_metric                                               manhattan   \n",
              "param_n_neighbors                                                  3   \n",
              "param_weights                                               distance   \n",
              "params             {'algorithm': 'auto', 'metric': 'manhattan', '...   \n",
              "split0_test_score                                            0.79021   \n",
              "split1_test_score                                           0.773109   \n",
              "split2_test_score                                           0.784314   \n",
              "split3_test_score                                           0.773109   \n",
              "split4_test_score                                            0.87535   \n",
              "mean_test_score                                             0.799218   \n",
              "std_test_score                                              0.038633   \n",
              "rank_test_score                                                   22   \n",
              "\n",
              "                                                                  6   \\\n",
              "mean_fit_time                                               0.007785   \n",
              "std_fit_time                                                0.001713   \n",
              "mean_score_time                                              0.04839   \n",
              "std_score_time                                              0.013103   \n",
              "param_algorithm                                                 auto   \n",
              "param_metric                                               manhattan   \n",
              "param_n_neighbors                                                  4   \n",
              "param_weights                                                uniform   \n",
              "params             {'algorithm': 'auto', 'metric': 'manhattan', '...   \n",
              "split0_test_score                                           0.788811   \n",
              "split1_test_score                                           0.791317   \n",
              "split2_test_score                                           0.778711   \n",
              "split3_test_score                                            0.80112   \n",
              "split4_test_score                                           0.813725   \n",
              "mean_test_score                                             0.794737   \n",
              "std_test_score                                              0.011874   \n",
              "rank_test_score                                                   28   \n",
              "\n",
              "                                                                  7   \\\n",
              "mean_fit_time                                               0.006585   \n",
              "std_fit_time                                                0.000489   \n",
              "mean_score_time                                             0.019673   \n",
              "std_score_time                                               0.00176   \n",
              "param_algorithm                                                 auto   \n",
              "param_metric                                               manhattan   \n",
              "param_n_neighbors                                                  4   \n",
              "param_weights                                               distance   \n",
              "params             {'algorithm': 'auto', 'metric': 'manhattan', '...   \n",
              "split0_test_score                                           0.802797   \n",
              "split1_test_score                                           0.777311   \n",
              "split2_test_score                                           0.791317   \n",
              "split3_test_score                                           0.760504   \n",
              "split4_test_score                                           0.876751   \n",
              "mean_test_score                                             0.801736   \n",
              "std_test_score                                              0.040084   \n",
              "rank_test_score                                                   19   \n",
              "\n",
              "                                                                  8   \\\n",
              "mean_fit_time                                               0.006096   \n",
              "std_fit_time                                                0.000221   \n",
              "mean_score_time                                             0.037524   \n",
              "std_score_time                                              0.002163   \n",
              "param_algorithm                                                 auto   \n",
              "param_metric                                               manhattan   \n",
              "param_n_neighbors                                                  5   \n",
              "param_weights                                                uniform   \n",
              "params             {'algorithm': 'auto', 'metric': 'manhattan', '...   \n",
              "split0_test_score                                           0.783217   \n",
              "split1_test_score                                            0.77451   \n",
              "split2_test_score                                           0.754902   \n",
              "split3_test_score                                           0.789916   \n",
              "split4_test_score                                           0.826331   \n",
              "mean_test_score                                             0.785775   \n",
              "std_test_score                                              0.023446   \n",
              "rank_test_score                                                   31   \n",
              "\n",
              "                                                                  9   ...  \\\n",
              "mean_fit_time                                               0.006582  ...   \n",
              "std_fit_time                                                0.000488  ...   \n",
              "mean_score_time                                             0.021869  ...   \n",
              "std_score_time                                              0.001681  ...   \n",
              "param_algorithm                                                 auto  ...   \n",
              "param_metric                                               manhattan  ...   \n",
              "param_n_neighbors                                                  5  ...   \n",
              "param_weights                                               distance  ...   \n",
              "params             {'algorithm': 'auto', 'metric': 'manhattan', '...  ...   \n",
              "split0_test_score                                                0.8  ...   \n",
              "split1_test_score                                           0.796919  ...   \n",
              "split2_test_score                                           0.780112  ...   \n",
              "split3_test_score                                            0.80112  ...   \n",
              "split4_test_score                                           0.904762  ...   \n",
              "mean_test_score                                             0.816583  ...   \n",
              "std_test_score                                              0.044736  ...   \n",
              "rank_test_score                                                    1  ...   \n",
              "\n",
              "                                                                  80  \\\n",
              "mean_fit_time                                               0.006384   \n",
              "std_fit_time                                                0.000487   \n",
              "mean_score_time                                             0.028132   \n",
              "std_score_time                                              0.002151   \n",
              "param_algorithm                                              kd_tree   \n",
              "param_metric                                               minkowski   \n",
              "param_n_neighbors                                                  1   \n",
              "param_weights                                                uniform   \n",
              "params             {'algorithm': 'kd_tree', 'metric': 'minkowski'...   \n",
              "split0_test_score                                           0.779021   \n",
              "split1_test_score                                           0.770308   \n",
              "split2_test_score                                           0.771709   \n",
              "split3_test_score                                           0.745098   \n",
              "split4_test_score                                           0.840336   \n",
              "mean_test_score                                             0.781294   \n",
              "std_test_score                                              0.031667   \n",
              "rank_test_score                                                   49   \n",
              "\n",
              "                                                                  81  \\\n",
              "mean_fit_time                                                0.00738   \n",
              "std_fit_time                                                 0.00185   \n",
              "mean_score_time                                             0.013076   \n",
              "std_score_time                                               0.00424   \n",
              "param_algorithm                                              kd_tree   \n",
              "param_metric                                               minkowski   \n",
              "param_n_neighbors                                                  1   \n",
              "param_weights                                               distance   \n",
              "params             {'algorithm': 'kd_tree', 'metric': 'minkowski'...   \n",
              "split0_test_score                                           0.779021   \n",
              "split1_test_score                                           0.770308   \n",
              "split2_test_score                                           0.771709   \n",
              "split3_test_score                                           0.745098   \n",
              "split4_test_score                                           0.840336   \n",
              "mean_test_score                                             0.781294   \n",
              "std_test_score                                              0.031667   \n",
              "rank_test_score                                                   49   \n",
              "\n",
              "                                                                  82  \\\n",
              "mean_fit_time                                                0.00718   \n",
              "std_fit_time                                                0.001323   \n",
              "mean_score_time                                             0.041818   \n",
              "std_score_time                                              0.008966   \n",
              "param_algorithm                                              kd_tree   \n",
              "param_metric                                               minkowski   \n",
              "param_n_neighbors                                                  2   \n",
              "param_weights                                                uniform   \n",
              "params             {'algorithm': 'kd_tree', 'metric': 'minkowski'...   \n",
              "split0_test_score                                           0.801399   \n",
              "split1_test_score                                           0.794118   \n",
              "split2_test_score                                           0.792717   \n",
              "split3_test_score                                           0.794118   \n",
              "split4_test_score                                           0.865546   \n",
              "mean_test_score                                             0.809579   \n",
              "std_test_score                                              0.028148   \n",
              "rank_test_score                                                    7   \n",
              "\n",
              "                                                                  83  \\\n",
              "mean_fit_time                                               0.006183   \n",
              "std_fit_time                                                0.000399   \n",
              "mean_score_time                                             0.011672   \n",
              "std_score_time                                              0.000747   \n",
              "param_algorithm                                              kd_tree   \n",
              "param_metric                                               minkowski   \n",
              "param_n_neighbors                                                  2   \n",
              "param_weights                                               distance   \n",
              "params             {'algorithm': 'kd_tree', 'metric': 'minkowski'...   \n",
              "split0_test_score                                           0.779021   \n",
              "split1_test_score                                           0.770308   \n",
              "split2_test_score                                           0.771709   \n",
              "split3_test_score                                           0.745098   \n",
              "split4_test_score                                           0.840336   \n",
              "mean_test_score                                             0.781294   \n",
              "std_test_score                                              0.031667   \n",
              "rank_test_score                                                   49   \n",
              "\n",
              "                                                                  84  \\\n",
              "mean_fit_time                                               0.006779   \n",
              "std_fit_time                                                0.000748   \n",
              "mean_score_time                                              0.03183   \n",
              "std_score_time                                              0.001025   \n",
              "param_algorithm                                              kd_tree   \n",
              "param_metric                                               minkowski   \n",
              "param_n_neighbors                                                  3   \n",
              "param_weights                                                uniform   \n",
              "params             {'algorithm': 'kd_tree', 'metric': 'minkowski'...   \n",
              "split0_test_score                                           0.776224   \n",
              "split1_test_score                                           0.766106   \n",
              "split2_test_score                                           0.770308   \n",
              "split3_test_score                                             0.7493   \n",
              "split4_test_score                                           0.845938   \n",
              "mean_test_score                                             0.781575   \n",
              "std_test_score                                              0.033404   \n",
              "rank_test_score                                                   46   \n",
              "\n",
              "                                                                  85  \\\n",
              "mean_fit_time                                               0.006908   \n",
              "std_fit_time                                                0.000513   \n",
              "mean_score_time                                             0.014083   \n",
              "std_score_time                                              0.001187   \n",
              "param_algorithm                                              kd_tree   \n",
              "param_metric                                               minkowski   \n",
              "param_n_neighbors                                                  3   \n",
              "param_weights                                               distance   \n",
              "params             {'algorithm': 'kd_tree', 'metric': 'minkowski'...   \n",
              "split0_test_score                                            0.79021   \n",
              "split1_test_score                                           0.784314   \n",
              "split2_test_score                                           0.794118   \n",
              "split3_test_score                                           0.764706   \n",
              "split4_test_score                                            0.90056   \n",
              "mean_test_score                                             0.806781   \n",
              "std_test_score                                              0.047968   \n",
              "rank_test_score                                                   13   \n",
              "\n",
              "                                                                  86  \\\n",
              "mean_fit_time                                               0.006383   \n",
              "std_fit_time                                                0.000489   \n",
              "mean_score_time                                             0.035106   \n",
              "std_score_time                                              0.004812   \n",
              "param_algorithm                                              kd_tree   \n",
              "param_metric                                               minkowski   \n",
              "param_n_neighbors                                                  4   \n",
              "param_weights                                                uniform   \n",
              "params             {'algorithm': 'kd_tree', 'metric': 'minkowski'...   \n",
              "split0_test_score                                           0.793007   \n",
              "split1_test_score                                           0.795518   \n",
              "split2_test_score                                           0.789916   \n",
              "split3_test_score                                           0.782913   \n",
              "split4_test_score                                           0.822129   \n",
              "mean_test_score                                             0.796697   \n",
              "std_test_score                                                0.0134   \n",
              "rank_test_score                                                   25   \n",
              "\n",
              "                                                                  87  \\\n",
              "mean_fit_time                                               0.006584   \n",
              "std_fit_time                                                0.000489   \n",
              "mean_score_time                                              0.01546   \n",
              "std_score_time                                              0.002746   \n",
              "param_algorithm                                              kd_tree   \n",
              "param_metric                                               minkowski   \n",
              "param_n_neighbors                                                  4   \n",
              "param_weights                                               distance   \n",
              "params             {'algorithm': 'kd_tree', 'metric': 'minkowski'...   \n",
              "split0_test_score                                           0.794406   \n",
              "split1_test_score                                           0.782913   \n",
              "split2_test_score                                           0.795518   \n",
              "split3_test_score                                           0.759104   \n",
              "split4_test_score                                           0.894958   \n",
              "mean_test_score                                              0.80538   \n",
              "std_test_score                                              0.046665   \n",
              "rank_test_score                                                   16   \n",
              "\n",
              "                                                                  88  \\\n",
              "mean_fit_time                                               0.007109   \n",
              "std_fit_time                                                  0.0017   \n",
              "mean_score_time                                              0.03524   \n",
              "std_score_time                                              0.007606   \n",
              "param_algorithm                                              kd_tree   \n",
              "param_metric                                               minkowski   \n",
              "param_n_neighbors                                                  5   \n",
              "param_weights                                                uniform   \n",
              "params             {'algorithm': 'kd_tree', 'metric': 'minkowski'...   \n",
              "split0_test_score                                           0.781818   \n",
              "split1_test_score                                           0.778711   \n",
              "split2_test_score                                           0.767507   \n",
              "split3_test_score                                           0.757703   \n",
              "split4_test_score                                           0.830532   \n",
              "mean_test_score                                             0.783254   \n",
              "std_test_score                                              0.025135   \n",
              "rank_test_score                                                   34   \n",
              "\n",
              "                                                                  89  \n",
              "mean_fit_time                                               0.006983  \n",
              "std_fit_time                                                0.000633  \n",
              "mean_score_time                                             0.015055  \n",
              "std_score_time                                              0.001016  \n",
              "param_algorithm                                              kd_tree  \n",
              "param_metric                                               minkowski  \n",
              "param_n_neighbors                                                  5  \n",
              "param_weights                                               distance  \n",
              "params             {'algorithm': 'kd_tree', 'metric': 'minkowski'...  \n",
              "split0_test_score                                           0.801399  \n",
              "split1_test_score                                            0.79972  \n",
              "split2_test_score                                           0.794118  \n",
              "split3_test_score                                           0.778711  \n",
              "split4_test_score                                           0.906162  \n",
              "mean_test_score                                             0.816022  \n",
              "std_test_score                                              0.045775  \n",
              "rank_test_score                                                    4  \n",
              "\n",
              "[17 rows x 90 columns]"
            ]
          },
          "execution_count": 39,
          "metadata": {},
          "output_type": "execute_result"
        }
      ],
      "source": [
        "gr = GridSearchCV(estimator=knn, param_grid=grid).fit(x_train_resample, y_train_resample)\n",
        "gr=pd.DataFrame(gr.cv_results_)\n",
        "gr.T"
      ]
    },
    {
      "cell_type": "code",
      "execution_count": null,
      "id": "d7b36d75",
      "metadata": {
        "execution": {
          "iopub.execute_input": "2023-04-12T19:52:39.322009Z",
          "iopub.status.busy": "2023-04-12T19:52:39.320599Z",
          "iopub.status.idle": "2023-04-12T19:52:39.514599Z",
          "shell.execute_reply": "2023-04-12T19:52:39.513062Z"
        },
        "papermill": {
          "duration": 0.234954,
          "end_time": "2023-04-12T19:52:39.517472",
          "exception": false,
          "start_time": "2023-04-12T19:52:39.282518",
          "status": "completed"
        },
        "tags": [],
        "id": "d7b36d75",
        "outputId": "fed9d8c2-70e7-467b-f987-97df5da85a56"
      },
      "outputs": [
        {
          "data": {
            "image/png": "[encoded data removed]",
            "text/plain": [
              "<Figure size 432x288 with 1 Axes>"
            ]
          },
          "metadata": {
            "needs_background": "light"
          },
          "output_type": "display_data"
        }
      ],
      "source": [
        "plt.plot(model,ac,'go--')\n",
        "plt.xlabel('Model')\n",
        "plt.ylabel('Accuracy obtained')\n",
        "plt.show()"
      ]
    },
    {
      "cell_type": "code",
      "execution_count": null,
      "id": "82ff1508",
      "metadata": {
        "id": "82ff1508"
      },
      "outputs": [],
      "source": []
    },
    {
      "cell_type": "markdown",
      "id": "1c4af08a",
      "metadata": {
        "id": "1c4af08a"
      },
      "source": [
        "# Training using Neural Networks"
      ]
    },
    {
      "cell_type": "code",
      "execution_count": null,
      "id": "02c558cd",
      "metadata": {
        "id": "02c558cd"
      },
      "outputs": [],
      "source": []
    },
    {
      "cell_type": "code",
      "execution_count": null,
      "id": "28a4dd84",
      "metadata": {
        "id": "28a4dd84"
      },
      "outputs": [],
      "source": [
        "import tensorflow as tf\n",
        "from tensorflow import keras\n",
        "from keras.models import Sequential\n",
        "from keras.layers import Dense"
      ]
    },
    {
      "cell_type": "code",
      "execution_count": null,
      "id": "7951bec7",
      "metadata": {
        "colab": {
          "base_uri": "https://localhost:8080/"
        },
        "id": "7951bec7",
        "outputId": "702a9dbc-a573-4d2e-d782-e23a8f48d6e7"
      },
      "outputs": [
        {
          "name": "stdout",
          "output_type": "stream",
          "text": [
            "Model: \"sequential_1\"\n",
            "_________________________________________________________________\n",
            " Layer (type)                Output Shape              Param #   \n",
            "=================================================================\n",
            " dense (Dense)               (None, 64)                768       \n",
            "                                                                 \n",
            " dense_1 (Dense)             (None, 32)                2080      \n",
            "                                                                 \n",
            " dense_2 (Dense)             (None, 16)                528       \n",
            "                                                                 \n",
            " dense_3 (Dense)             (None, 1)                 17        \n",
            "                                                                 \n",
            "=================================================================\n",
            "Total params: 3,393\n",
            "Trainable params: 3,393\n",
            "Non-trainable params: 0\n",
            "_________________________________________________________________\n"
          ]
        }
      ],
      "source": [
        "# Defining our sequential model\n",
        "nn = Sequential()\n",
        "nn.add(Dense(64, input_shape=(X_train.shape[1],), activation='relu',kernel_regularizer=keras.regularizers.l2(0.01)))\n",
        "nn.add(Dense(32, activation='relu'))\n",
        "nn.add(Dense(16, activation='sigmoid'))\n",
        "nn.add(Dense(1))\n",
        "\n",
        "nn.summary()"
      ]
    },
    {
      "cell_type": "code",
      "execution_count": null,
      "id": "37db906c",
      "metadata": {
        "id": "37db906c"
      },
      "outputs": [],
      "source": [
        "nn.compile(optimizer='adam',loss = tf.keras.losses.BinaryCrossentropy(from_logits=True), metrics=['accuracy'])"
      ]
    },
    {
      "cell_type": "code",
      "execution_count": null,
      "id": "f94d5e2a",
      "metadata": {
        "id": "f94d5e2a"
      },
      "outputs": [],
      "source": []
    },
    {
      "cell_type": "code",
      "execution_count": null,
      "id": "76c83a22",
      "metadata": {
        "colab": {
          "base_uri": "https://localhost:8080/"
        },
        "id": "76c83a22",
        "outputId": "b9e09d47-65a6-4a6b-c172-9360da705913"
      },
      "outputs": [
        {
          "name": "stdout",
          "output_type": "stream",
          "text": [
            "Epoch 1/10\n",
            "358/358 [==============================] - 1s 2ms/step - loss: 0.5732 - accuracy: 0.8001 - val_loss: 0.4249 - val_accuracy: 0.8691\n",
            "Epoch 2/10\n",
            "358/358 [==============================] - 0s 1ms/step - loss: 0.5121 - accuracy: 0.8001 - val_loss: 0.4099 - val_accuracy: 0.8691\n",
            "Epoch 3/10\n",
            "358/358 [==============================] - 1s 1ms/step - loss: 0.5049 - accuracy: 0.8001 - val_loss: 0.4022 - val_accuracy: 0.8691\n",
            "Epoch 4/10\n",
            "358/358 [==============================] - 0s 1ms/step - loss: 0.5034 - accuracy: 0.8001 - val_loss: 0.4044 - val_accuracy: 0.8691\n",
            "Epoch 5/10\n",
            "358/358 [==============================] - 0s 1ms/step - loss: 0.5024 - accuracy: 0.8001 - val_loss: 0.4054 - val_accuracy: 0.8691\n",
            "Epoch 6/10\n",
            "358/358 [==============================] - 0s 1ms/step - loss: 0.5028 - accuracy: 0.8001 - val_loss: 0.4081 - val_accuracy: 0.8691\n",
            "Epoch 7/10\n",
            "358/358 [==============================] - 1s 1ms/step - loss: 0.5020 - accuracy: 0.8001 - val_loss: 0.4026 - val_accuracy: 0.8691\n",
            "Epoch 8/10\n",
            "358/358 [==============================] - 1s 1ms/step - loss: 0.5012 - accuracy: 0.8001 - val_loss: 0.4020 - val_accuracy: 0.8691\n",
            "Epoch 9/10\n",
            "358/358 [==============================] - 0s 1ms/step - loss: 0.5037 - accuracy: 0.8001 - val_loss: 0.4038 - val_accuracy: 0.8691\n",
            "Epoch 10/10\n",
            "358/358 [==============================] - 0s 1ms/step - loss: 0.5015 - accuracy: 0.8001 - val_loss: 0.4035 - val_accuracy: 0.8691\n",
            "Execution Completed in: 5.525996999999961\n"
          ]
        }
      ],
      "source": [
        "startnn = time.perf_counter()\n",
        "\n",
        "EPOCHS = 10\n",
        "BATCH_SIZE = 10\n",
        "history = nn.fit(x_train_resample, y_train_resample, validation_data=(x_test, y_test), epochs=EPOCHS, batch_size=BATCH_SIZE)\n",
        "\n",
        "\n",
        "\n",
        "endnn = time.perf_counter()\n",
        "\n",
        "print('Execution Completed in:', endnn - startnn)\n",
        "\n",
        "nn_timer = endnn - startnn"
      ]
    },
    {
      "cell_type": "code",
      "execution_count": null,
      "id": "f3f00966",
      "metadata": {
        "colab": {
          "base_uri": "https://localhost:8080/"
        },
        "id": "f3f00966",
        "outputId": "b66d8dde-b330-42d3-cf8f-5a427a271e9e"
      },
      "outputs": [
        {
          "name": "stdout",
          "output_type": "stream",
          "text": [
            "Test loss: 0.40349194407463074\n",
            "Test accuracy: 0.8691037893295288\n"
          ]
        }
      ],
      "source": [
        "score = nn.evaluate(x_test, y_test, verbose=0)\n",
        "print('Test loss:', score[0])\n",
        "print('Test accuracy:', score[1])"
      ]
    },
    {
      "cell_type": "code",
      "execution_count": null,
      "id": "995aa055",
      "metadata": {
        "colab": {
          "base_uri": "https://localhost:8080/",
          "height": 573
        },
        "id": "995aa055",
        "outputId": "81b96c64-cc8b-4799-d0e4-76956148bb71"
      },
      "outputs": [
        {
          "data": {
            "image/png": "[encoded data removed]",
            "text/plain": [
              "<Figure size 432x288 with 1 Axes>"
            ]
          },
          "metadata": {
            "needs_background": "light"
          },
          "output_type": "display_data"
        },
        {
          "data": {
            "image/png": "[encoded data removed]",
            "text/plain": [
              "<Figure size 432x288 with 1 Axes>"
            ]
          },
          "metadata": {
            "needs_background": "light"
          },
          "output_type": "display_data"
        }
      ],
      "source": [
        "plt.plot(history.history['accuracy'])\n",
        "plt.plot(history.history['val_accuracy'])\n",
        "plt.title('Model Accuracy')\n",
        "plt.ylabel('Accuracy')\n",
        "plt.xlabel('epochs')\n",
        "plt.legend(['train', 'test'], loc='upper left')\n",
        "plt.show()\n",
        "\n",
        "plt.plot(history.history['loss'])\n",
        "plt.plot(history.history['val_loss'])\n",
        "plt.title('Model Loss')\n",
        "plt.ylabel('loss')\n",
        "plt.xlabel('epochs')\n",
        "plt.legend(['train', 'test'], loc='upper right')\n",
        "plt.show()"
      ]
    },
    {
      "cell_type": "markdown",
      "id": "b7ef8019",
      "metadata": {
        "id": "b7ef8019"
      },
      "source": [
        "### We can see that from the above graphs that the model performance has been constant, and no learning has happened. This might be due to several number of reasons, including the data points, the model architecutre, the model hyper parameters such as the number of nodes, activation and optimizer functions, loss function, etc."
      ]
    },
    {
      "cell_type": "code",
      "execution_count": null,
      "id": "9ab46035",
      "metadata": {
        "id": "9ab46035"
      },
      "outputs": [],
      "source": []
    },
    {
      "cell_type": "markdown",
      "id": "44df572d",
      "metadata": {
        "id": "44df572d"
      },
      "source": [
        "# SVM Model"
      ]
    },
    {
      "cell_type": "code",
      "execution_count": null,
      "id": "d5f45aee",
      "metadata": {
        "id": "d5f45aee"
      },
      "outputs": [],
      "source": [
        "from sklearn.svm import SVC\n",
        "from sklearn.metrics import accuracy_score, confusion_matrix, classification_report, roc_auc_score, roc_curve"
      ]
    },
    {
      "cell_type": "code",
      "execution_count": null,
      "id": "b0298650",
      "metadata": {
        "id": "b0298650",
        "outputId": "95a517a0-0717-4267-f89e-0f4c84336373"
      },
      "outputs": [
        {
          "name": "stdout",
          "output_type": "stream",
          "text": [
            "Model accuracy score with default hyperparameters: 0.8715\n"
          ]
        }
      ],
      "source": [
        "svc = SVC() \n",
        "\n",
        "\n",
        "# fit classifier to training set\n",
        "svc.fit(x_train_resample, y_train_resample)\n",
        "\n",
        "\n",
        "# make predictions on test set\n",
        "y_pred = svc.predict(x_test)\n",
        "\n",
        "\n",
        "# compute and print accuracy score\n",
        "print('Model accuracy score with default hyperparameters: {0:0.4f}'. format(accuracy_score(y_test, y_pred)))"
      ]
    },
    {
      "cell_type": "code",
      "execution_count": null,
      "id": "37ae1873",
      "metadata": {
        "id": "37ae1873",
        "outputId": "76582f6c-6d90-4462-f78d-b3c732f1824b"
      },
      "outputs": [
        {
          "name": "stdout",
          "output_type": "stream",
          "text": [
            "              precision    recall  f1-score   support\n",
            "\n",
            "           0       0.87      1.00      0.93       737\n",
            "           1       1.00      0.02      0.04       111\n",
            "\n",
            "    accuracy                           0.87       848\n",
            "   macro avg       0.94      0.51      0.48       848\n",
            "weighted avg       0.89      0.87      0.81       848\n",
            "\n"
          ]
        }
      ],
      "source": [
        "print(classification_report(y_test, y_pred))"
      ]
    },
    {
      "cell_type": "code",
      "execution_count": null,
      "id": "4a7077a5",
      "metadata": {
        "id": "4a7077a5",
        "outputId": "f0774c1c-d842-4998-c7b3-08a430e38f2f"
      },
      "outputs": [
        {
          "data": {
            "image/png": "[encoded data removed]",
            "text/plain": [
              "<Figure size 432x288 with 1 Axes>"
            ]
          },
          "metadata": {
            "needs_background": "light"
          },
          "output_type": "display_data"
        }
      ],
      "source": [
        "svm_roc_auc = roc_auc_score(y_test, svc.predict(x_test))\n",
        "fpr, tpr, thresholds = roc_curve(y_test, svc.predict(x_test)[:])\n",
        "plt.figure()\n",
        "plt.plot(fpr, tpr, label='Support vector machine (area = %0.2f)' % svm_roc_auc)\n",
        "plt.plot([0, 1], [0, 1])\n",
        "plt.xlim([0.0, 1.0])\n",
        "plt.ylim([0.0, 1.05])\n",
        "plt.xlabel('False Positive Rate')\n",
        "plt.ylabel('True Positive Rate')\n",
        "plt.title('Receiver operating characteristic')\n",
        "plt.legend(loc=\"lower right\")\n",
        "plt.show()"
      ]
    },
    {
      "cell_type": "markdown",
      "id": "641bb6db",
      "metadata": {
        "id": "641bb6db"
      },
      "source": [
        "### Since in the above graph both the roc_auc_score and the roc_curve are both super imposed on each other, it may indicate that the performance of your model is consistent across different thresholds."
      ]
    },
    {
      "cell_type": "code",
      "execution_count": null,
      "id": "c95c02e6",
      "metadata": {
        "id": "c95c02e6"
      },
      "outputs": [],
      "source": []
    }
  ],
  "metadata": {
    "kernelspec": {
      "display_name": "Python 3 (ipykernel)",
      "language": "python",
      "name": "python3"
    },
    "language_info": {
      "codemirror_mode": {
        "name": "ipython",
        "version": 3
      },
      "file_extension": ".py",
      "mimetype": "text/x-python",
      "name": "python",
      "nbconvert_exporter": "python",
      "pygments_lexer": "ipython3",
      "version": "3.7.9"
    },
    "papermill": {
      "default_parameters": {},
      "duration": 62.037359,
      "end_time": "2023-04-12T19:52:40.582224",
      "environment_variables": {},
      "exception": null,
      "input_path": "__notebook__.ipynb",
      "output_path": "__notebook__.ipynb",
      "parameters": {},
      "start_time": "2023-04-12T19:51:38.544865",
      "version": "2.4.0"
    },
    "colab": {
      "provenance": []
    }
  },
  "nbformat": 4,
  "nbformat_minor": 5
}